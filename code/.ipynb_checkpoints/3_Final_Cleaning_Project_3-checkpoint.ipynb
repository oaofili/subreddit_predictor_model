{
 "cells": [
  {
   "cell_type": "markdown",
   "metadata": {},
   "source": [
    "# Project 3 - Deep Cleaning Data for Final Use in EDA and Modeling\n",
    "\n",
    "In this portion of the Project, we perform a deeper cleaning of our data to prep it fully for EDA and Modeling. Here we will determine the key features that are need to best garner inference from our data and then to predict our subreddits. This is singularly the most important part of this project."
   ]
  },
  {
   "cell_type": "markdown",
   "metadata": {},
   "source": [
    "## Contents\n",
    "\n",
    "- [1.0 Setup - install modules](#one)\n",
    "- [2.0 Import Data and Setup Pandas Dataframe](#two)\n",
    "- [3.0 Unrool Json to Columns](#three)\n",
    "- [4.0 Add Time Series and Subscribers To DataFrame](#four)"
   ]
  },
  {
   "cell_type": "markdown",
   "metadata": {},
   "source": [
    "## 1.0 Setup - Import Libraries<a name=\"one\"></a>"
   ]
  },
  {
   "cell_type": "code",
   "execution_count": 1,
   "metadata": {},
   "outputs": [],
   "source": [
    "import warnings\n",
    "import pandas as pd\n",
    "import numpy as np\n",
    "from datetime import datetime\n",
    "import json\n",
    "import ast"
   ]
  },
  {
   "cell_type": "code",
   "execution_count": 2,
   "metadata": {},
   "outputs": [],
   "source": [
    "# this setting widens how many characters pandas will display in a column:\n",
    "pd.options.display.max_colwidth = 350"
   ]
  },
  {
   "cell_type": "markdown",
   "metadata": {},
   "source": [
    "## 2.0 Import Data and Setup Pandas Dataframe <a name=\"two\"></a>"
   ]
  },
  {
   "cell_type": "code",
   "execution_count": 3,
   "metadata": {},
   "outputs": [
    {
     "data": {
      "text/html": [
       "<div>\n",
       "<style scoped>\n",
       "    .dataframe tbody tr th:only-of-type {\n",
       "        vertical-align: middle;\n",
       "    }\n",
       "\n",
       "    .dataframe tbody tr th {\n",
       "        vertical-align: top;\n",
       "    }\n",
       "\n",
       "    .dataframe thead th {\n",
       "        text-align: right;\n",
       "    }\n",
       "</style>\n",
       "<table border=\"1\" class=\"dataframe\">\n",
       "  <thead>\n",
       "    <tr style=\"text-align: right;\">\n",
       "      <th></th>\n",
       "      <th>subreddit</th>\n",
       "      <th>title</th>\n",
       "      <th>status_char_length</th>\n",
       "      <th>status_word_count</th>\n",
       "      <th>response</th>\n",
       "      <th>normalized</th>\n",
       "    </tr>\n",
       "  </thead>\n",
       "  <tbody>\n",
       "    <tr>\n",
       "      <th>0</th>\n",
       "      <td>ProCreate</td>\n",
       "      <td>Recently got an iPad and have never done digital art before. Not perfect, but I think it’s ok for a beginner.</td>\n",
       "      <td>109</td>\n",
       "      <td>21</td>\n",
       "      <td>{'usage': {'text_units': 1, 'text_characters': 109, 'features': 1}, 'language': 'en', 'keywords': [{'text': 'digital art', 'sentiment': {'score': -0.701735, 'label': 'negative'}, 'relevance': 0.80561, 'emotion': {'sadness': 0.314979, 'joy': 0.433697, 'fear': 0.054239, 'disgust': 0.043605, 'anger': 0.12908}, 'count': 1}]}</td>\n",
       "      <td>text  relevance  count  sentiment.score sentiment.label  \\\\n0  digital art    0.80561      1        -0.701735        negative   \\n\\n   emotion.sadness  emotion.joy  emotion.fear  emotion.disgust  emotion.anger  \\n0         0.314979     0.433697      0.054239         0.043605        0.12908</td>\n",
       "    </tr>\n",
       "    <tr>\n",
       "      <th>1</th>\n",
       "      <td>ProCreate</td>\n",
       "      <td>Occasionally can't draw in specific spots?</td>\n",
       "      <td>42</td>\n",
       "      <td>6</td>\n",
       "      <td>{'usage': {'text_units': 1, 'text_characters': 42, 'features': 1}, 'language': 'en', 'keywords': [{'text': 'specific spots', 'sentiment': {'score': 0, 'label': 'neutral'}, 'relevance': 0.5, 'emotion': {'sadness': 0.024311, 'joy': 0.102704, 'fear': 0.033228, 'disgust': 0.041752, 'anger': 0.052201}, 'count': 1}]}</td>\n",
       "      <td>text  relevance  count  sentiment.score sentiment.label  \\\\n0  specific spots        0.5      1                0         neutral   \\n\\n   emotion.sadness  emotion.joy  emotion.fear  emotion.disgust  emotion.anger  \\n0         0.024311     0.102704      0.033228         0.041752       0.052201</td>\n",
       "    </tr>\n",
       "    <tr>\n",
       "      <th>2</th>\n",
       "      <td>ProCreate</td>\n",
       "      <td>First finished painting in procreate! Trying for 31 flowers in January.</td>\n",
       "      <td>71</td>\n",
       "      <td>11</td>\n",
       "      <td>{'usage': {'text_units': 1, 'text_characters': 71, 'features': 1}, 'language': 'en', 'keywords': [{'text': 'flowers', 'sentiment': {'score': 0, 'label': 'neutral'}, 'relevance': 0.699444, 'emotion': {'sadness': 0.263336, 'joy': 0.557145, 'fear': 0.04873, 'disgust': 0.035199, 'anger': 0.075322}, 'count': 1}]}</td>\n",
       "      <td>text  relevance  count  sentiment.score sentiment.label  \\\\n0  flowers   0.699444      1                0         neutral   \\n\\n   emotion.sadness  emotion.joy  emotion.fear  emotion.disgust  emotion.anger  \\n0         0.263336     0.557145       0.04873         0.035199       0.075322</td>\n",
       "    </tr>\n",
       "    <tr>\n",
       "      <th>3</th>\n",
       "      <td>ProCreate</td>\n",
       "      <td>I just bought an ipad, and downloaded Procreate, what a intuitive tool! Do you have some great tips maybe?</td>\n",
       "      <td>106</td>\n",
       "      <td>19</td>\n",
       "      <td>{'usage': {'text_units': 1, 'text_characters': 106, 'features': 1}, 'language': 'en', 'keywords': [{'text': 'great tips', 'sentiment': {'score': 0, 'label': 'neutral'}, 'relevance': 0.763043, 'emotion': {'sadness': 0.032459, 'joy': 0.809301, 'fear': 0.154072, 'disgust': 0.008604, 'anger': 0.004675}, 'count': 1}]}</td>\n",
       "      <td>text  relevance  count  sentiment.score sentiment.label  \\\\n0  great tips   0.763043      1                0         neutral   \\n\\n   emotion.sadness  emotion.joy  emotion.fear  emotion.disgust  emotion.anger  \\n0         0.032459     0.809301      0.154072         0.008604       0.004675</td>\n",
       "    </tr>\n",
       "    <tr>\n",
       "      <th>4</th>\n",
       "      <td>ProCreate</td>\n",
       "      <td>First piece with Procreate– constructive feedback welcome!</td>\n",
       "      <td>58</td>\n",
       "      <td>7</td>\n",
       "      <td>{'usage': {'text_units': 1, 'text_characters': 58, 'features': 1}, 'language': 'en', 'keywords': [{'text': 'First piece', 'sentiment': {'score': 0.932697, 'label': 'positive'}, 'relevance': 0.998433, 'emotion': {'sadness': 0.017143, 'joy': 0.430622, 'fear': 0.001068, 'disgust': 0.01123, 'anger': 0.051191}, 'count': 1}]}</td>\n",
       "      <td>text  relevance  count  sentiment.score sentiment.label  \\\\n0  First piece   0.998433      1         0.932697        positive   \\n\\n   emotion.sadness  emotion.joy  emotion.fear  emotion.disgust  emotion.anger  \\n0         0.017143     0.430622      0.001068          0.01123       0.051191</td>\n",
       "    </tr>\n",
       "  </tbody>\n",
       "</table>\n",
       "</div>"
      ],
      "text/plain": [
       "   subreddit  \\\n",
       "0  ProCreate   \n",
       "1  ProCreate   \n",
       "2  ProCreate   \n",
       "3  ProCreate   \n",
       "4  ProCreate   \n",
       "\n",
       "                                                                                                           title  \\\n",
       "0  Recently got an iPad and have never done digital art before. Not perfect, but I think it’s ok for a beginner.   \n",
       "1                                                                     Occasionally can't draw in specific spots?   \n",
       "2                                        First finished painting in procreate! Trying for 31 flowers in January.   \n",
       "3     I just bought an ipad, and downloaded Procreate, what a intuitive tool! Do you have some great tips maybe?   \n",
       "4                                                     First piece with Procreate– constructive feedback welcome!   \n",
       "\n",
       "   status_char_length  status_word_count  \\\n",
       "0                 109                 21   \n",
       "1                  42                  6   \n",
       "2                  71                 11   \n",
       "3                 106                 19   \n",
       "4                  58                  7   \n",
       "\n",
       "                                                                                                                                                                                                                                                                                                                             response  \\\n",
       "0  {'usage': {'text_units': 1, 'text_characters': 109, 'features': 1}, 'language': 'en', 'keywords': [{'text': 'digital art', 'sentiment': {'score': -0.701735, 'label': 'negative'}, 'relevance': 0.80561, 'emotion': {'sadness': 0.314979, 'joy': 0.433697, 'fear': 0.054239, 'disgust': 0.043605, 'anger': 0.12908}, 'count': 1}]}   \n",
       "1            {'usage': {'text_units': 1, 'text_characters': 42, 'features': 1}, 'language': 'en', 'keywords': [{'text': 'specific spots', 'sentiment': {'score': 0, 'label': 'neutral'}, 'relevance': 0.5, 'emotion': {'sadness': 0.024311, 'joy': 0.102704, 'fear': 0.033228, 'disgust': 0.041752, 'anger': 0.052201}, 'count': 1}]}   \n",
       "2               {'usage': {'text_units': 1, 'text_characters': 71, 'features': 1}, 'language': 'en', 'keywords': [{'text': 'flowers', 'sentiment': {'score': 0, 'label': 'neutral'}, 'relevance': 0.699444, 'emotion': {'sadness': 0.263336, 'joy': 0.557145, 'fear': 0.04873, 'disgust': 0.035199, 'anger': 0.075322}, 'count': 1}]}   \n",
       "3          {'usage': {'text_units': 1, 'text_characters': 106, 'features': 1}, 'language': 'en', 'keywords': [{'text': 'great tips', 'sentiment': {'score': 0, 'label': 'neutral'}, 'relevance': 0.763043, 'emotion': {'sadness': 0.032459, 'joy': 0.809301, 'fear': 0.154072, 'disgust': 0.008604, 'anger': 0.004675}, 'count': 1}]}   \n",
       "4   {'usage': {'text_units': 1, 'text_characters': 58, 'features': 1}, 'language': 'en', 'keywords': [{'text': 'First piece', 'sentiment': {'score': 0.932697, 'label': 'positive'}, 'relevance': 0.998433, 'emotion': {'sadness': 0.017143, 'joy': 0.430622, 'fear': 0.001068, 'disgust': 0.01123, 'anger': 0.051191}, 'count': 1}]}   \n",
       "\n",
       "                                                                                                                                                                                                                                                                                                             normalized  \n",
       "0                  text  relevance  count  sentiment.score sentiment.label  \\\\n0  digital art    0.80561      1        -0.701735        negative   \\n\\n   emotion.sadness  emotion.joy  emotion.fear  emotion.disgust  emotion.anger  \\n0         0.314979     0.433697      0.054239         0.043605        0.12908    \n",
       "1               text  relevance  count  sentiment.score sentiment.label  \\\\n0  specific spots        0.5      1                0         neutral   \\n\\n   emotion.sadness  emotion.joy  emotion.fear  emotion.disgust  emotion.anger  \\n0         0.024311     0.102704      0.033228         0.041752       0.052201    \n",
       "2                      text  relevance  count  sentiment.score sentiment.label  \\\\n0  flowers   0.699444      1                0         neutral   \\n\\n   emotion.sadness  emotion.joy  emotion.fear  emotion.disgust  emotion.anger  \\n0         0.263336     0.557145       0.04873         0.035199       0.075322    \n",
       "3                   text  relevance  count  sentiment.score sentiment.label  \\\\n0  great tips   0.763043      1                0         neutral   \\n\\n   emotion.sadness  emotion.joy  emotion.fear  emotion.disgust  emotion.anger  \\n0         0.032459     0.809301      0.154072         0.008604       0.004675    \n",
       "4                  text  relevance  count  sentiment.score sentiment.label  \\\\n0  First piece   0.998433      1         0.932697        positive   \\n\\n   emotion.sadness  emotion.joy  emotion.fear  emotion.disgust  emotion.anger  \\n0         0.017143     0.430622      0.001068          0.01123       0.051191    "
      ]
     },
     "execution_count": 3,
     "metadata": {},
     "output_type": "execute_result"
    }
   ],
   "source": [
    "df = pd.read_csv('data/2_Cleaned_IBM_Data/cleaned_ibm.csv')\n",
    "df.head(5) # Import and Inspect our DataFrame"
   ]
  },
  {
   "cell_type": "markdown",
   "metadata": {},
   "source": [
    "## 3.0 Unspool Response Column<a name=\"three\"></a>\n",
    "\n",
    "We will unspool the dictionary/list in the response column to extract the sentiment and emotional information we want to gather for our analysis."
   ]
  },
  {
   "cell_type": "code",
   "execution_count": 4,
   "metadata": {},
   "outputs": [],
   "source": [
    "test_df = df.copy() # Create a new DataFrame"
   ]
  },
  {
   "cell_type": "code",
   "execution_count": 5,
   "metadata": {},
   "outputs": [
    {
     "data": {
      "text/html": [
       "<div>\n",
       "<style scoped>\n",
       "    .dataframe tbody tr th:only-of-type {\n",
       "        vertical-align: middle;\n",
       "    }\n",
       "\n",
       "    .dataframe tbody tr th {\n",
       "        vertical-align: top;\n",
       "    }\n",
       "\n",
       "    .dataframe thead th {\n",
       "        text-align: right;\n",
       "    }\n",
       "</style>\n",
       "<table border=\"1\" class=\"dataframe\">\n",
       "  <thead>\n",
       "    <tr style=\"text-align: right;\">\n",
       "      <th></th>\n",
       "      <th>subreddit</th>\n",
       "      <th>title</th>\n",
       "      <th>status_char_length</th>\n",
       "      <th>status_word_count</th>\n",
       "      <th>response</th>\n",
       "      <th>normalized</th>\n",
       "    </tr>\n",
       "  </thead>\n",
       "  <tbody>\n",
       "    <tr>\n",
       "      <th>7033</th>\n",
       "      <td>AdobeIllustrator</td>\n",
       "      <td>No matter what I do I get this error. Help</td>\n",
       "      <td>42</td>\n",
       "      <td>10</td>\n",
       "      <td>{'usage': {'text_units': 1, 'text_characters': 42, 'features': 1}, 'language': 'en', 'keywords': [{'text': 'error', 'sentiment': {'score': -0.697416, 'label': 'negative'}, 'relevance': 0.82613, 'emotion': {'sadness': 0.870451, 'joy': 0.006608, 'fear': 0.090859, 'disgust': 0.058557, 'anger': 0.147008}, 'count': 1}]}</td>\n",
       "      <td>text  relevance  count  sentiment.score sentiment.label  emotion.sadness  \\\\n0  error    0.82613      1        -0.697416        negative         0.870451   \\n\\n   emotion.joy  emotion.fear  emotion.disgust  emotion.anger  \\n0     0.006608      0.090859         0.058557       0.147008</td>\n",
       "    </tr>\n",
       "    <tr>\n",
       "      <th>7034</th>\n",
       "      <td>AdobeIllustrator</td>\n",
       "      <td>Practicing color highlights lately and was very happy with this. Glass Coca Cola</td>\n",
       "      <td>80</td>\n",
       "      <td>13</td>\n",
       "      <td>{'usage': {'text_units': 1, 'text_characters': 80, 'features': 1}, 'language': 'en', 'keywords': [{'text': 'Glass Coca Cola', 'sentiment': {'score': 0, 'label': 'neutral'}, 'relevance': 0.751211, 'emotion': {'sadness': 0.19857, 'joy': 0.253808, 'fear': 0.118319, 'disgust': 0.113976, 'anger': 0.14925}, 'count': 1}]}</td>\n",
       "      <td>text  relevance  count  sentiment.score sentiment.label  \\\\n0  Glass Coca Cola   0.751211      1                0         neutral   \\n\\n   emotion.sadness  emotion.joy  emotion.fear  emotion.disgust  emotion.anger  \\n0          0.19857     0.253808      0.118319         0.113976        0.14925</td>\n",
       "    </tr>\n",
       "    <tr>\n",
       "      <th>7035</th>\n",
       "      <td>AdobeIllustrator</td>\n",
       "      <td>Illustrator become laggy after editing/resizing artboard. Moving objects and zooming becomes extremely slow. Any idea why?</td>\n",
       "      <td>122</td>\n",
       "      <td>16</td>\n",
       "      <td>{'usage': {'text_units': 1, 'text_characters': 122, 'features': 1}, 'language': 'en', 'keywords': [{'text': 'Illustrator', 'sentiment': {'score': 0, 'label': 'neutral'}, 'relevance': 0.692774, 'emotion': {'sadness': 0.115133, 'joy': 0.404409, 'fear': 0.464286, 'disgust': 0.036661, 'anger': 0.093767}, 'count': 1}]}</td>\n",
       "      <td>text  relevance  count  sentiment.score sentiment.label  \\\\n0  Illustrator   0.692774      1                0         neutral   \\n\\n   emotion.sadness  emotion.joy  emotion.fear  emotion.disgust  emotion.anger  \\n0         0.115133     0.404409      0.464286         0.036661       0.093767</td>\n",
       "    </tr>\n",
       "    <tr>\n",
       "      <th>7036</th>\n",
       "      <td>AdobeIllustrator</td>\n",
       "      <td>Is there a way to batch-populate folders with similar file names? Possibly using Adobe Bridge?</td>\n",
       "      <td>94</td>\n",
       "      <td>15</td>\n",
       "      <td>{'usage': {'text_units': 1, 'text_characters': 94, 'features': 1}, 'language': 'en', 'keywords': [{'text': 'similar file names', 'sentiment': {'score': 0, 'label': 'neutral'}, 'relevance': 0.754343, 'emotion': {'sadness': 0.241949, 'joy': 0.105252, 'fear': 0.037448, 'disgust': 0.07314, 'anger': 0.08362}, 'count': 1}]}</td>\n",
       "      <td>text  relevance  count  sentiment.score sentiment.label  \\\\n0  similar file names   0.754343      1                0         neutral   \\n\\n   emotion.sadness  emotion.joy  emotion.fear  emotion.disgust  emotion.anger  \\n0         0.241949     0.105252      0.037448          0.07314        0.08362</td>\n",
       "    </tr>\n",
       "    <tr>\n",
       "      <th>7037</th>\n",
       "      <td>AdobeIllustrator</td>\n",
       "      <td>Hey illustrators... I'm relatively new to illustrator but have taken on a small job for a friend of a friend. Maybe I'm just overtired but what the hell is this thing? I can't make it go away and have no idea how I even got it up in the first place. Any advice appreciated</td>\n",
       "      <td>272</td>\n",
       "      <td>54</td>\n",
       "      <td>{'usage': {'text_units': 1, 'text_characters': 272, 'features': 1}, 'language': 'en', 'keywords': [{'text': 'small job', 'sentiment': {'score': 0.756212, 'label': 'positive'}, 'relevance': 0.723411, 'emotion': {'sadness': 0.147012, 'joy': 0.661667, 'fear': 0.085309, 'disgust': 0.029754, 'anger': 0.096078}, 'count': 1}]}</td>\n",
       "      <td>text  relevance  count  sentiment.score sentiment.label  \\\\n0  small job   0.723411      1         0.756212        positive   \\n\\n   emotion.sadness  emotion.joy  emotion.fear  emotion.disgust  emotion.anger  \\n0         0.147012     0.661667      0.085309         0.029754       0.096078</td>\n",
       "    </tr>\n",
       "  </tbody>\n",
       "</table>\n",
       "</div>"
      ],
      "text/plain": [
       "             subreddit  \\\n",
       "7033  AdobeIllustrator   \n",
       "7034  AdobeIllustrator   \n",
       "7035  AdobeIllustrator   \n",
       "7036  AdobeIllustrator   \n",
       "7037  AdobeIllustrator   \n",
       "\n",
       "                                                                                                                                                                                                                                                                                 title  \\\n",
       "7033                                                                                                                                                                                                                                        No matter what I do I get this error. Help   \n",
       "7034                                                                                                                                                                                                  Practicing color highlights lately and was very happy with this. Glass Coca Cola   \n",
       "7035                                                                                                                                                        Illustrator become laggy after editing/resizing artboard. Moving objects and zooming becomes extremely slow. Any idea why?   \n",
       "7036                                                                                                                                                                                    Is there a way to batch-populate folders with similar file names? Possibly using Adobe Bridge?   \n",
       "7037  Hey illustrators... I'm relatively new to illustrator but have taken on a small job for a friend of a friend. Maybe I'm just overtired but what the hell is this thing? I can't make it go away and have no idea how I even got it up in the first place. Any advice appreciated   \n",
       "\n",
       "      status_char_length  status_word_count  \\\n",
       "7033                  42                 10   \n",
       "7034                  80                 13   \n",
       "7035                 122                 16   \n",
       "7036                  94                 15   \n",
       "7037                 272                 54   \n",
       "\n",
       "                                                                                                                                                                                                                                                                                                                               response  \\\n",
       "7033       {'usage': {'text_units': 1, 'text_characters': 42, 'features': 1}, 'language': 'en', 'keywords': [{'text': 'error', 'sentiment': {'score': -0.697416, 'label': 'negative'}, 'relevance': 0.82613, 'emotion': {'sadness': 0.870451, 'joy': 0.006608, 'fear': 0.090859, 'disgust': 0.058557, 'anger': 0.147008}, 'count': 1}]}   \n",
       "7034       {'usage': {'text_units': 1, 'text_characters': 80, 'features': 1}, 'language': 'en', 'keywords': [{'text': 'Glass Coca Cola', 'sentiment': {'score': 0, 'label': 'neutral'}, 'relevance': 0.751211, 'emotion': {'sadness': 0.19857, 'joy': 0.253808, 'fear': 0.118319, 'disgust': 0.113976, 'anger': 0.14925}, 'count': 1}]}   \n",
       "7035        {'usage': {'text_units': 1, 'text_characters': 122, 'features': 1}, 'language': 'en', 'keywords': [{'text': 'Illustrator', 'sentiment': {'score': 0, 'label': 'neutral'}, 'relevance': 0.692774, 'emotion': {'sadness': 0.115133, 'joy': 0.404409, 'fear': 0.464286, 'disgust': 0.036661, 'anger': 0.093767}, 'count': 1}]}   \n",
       "7036    {'usage': {'text_units': 1, 'text_characters': 94, 'features': 1}, 'language': 'en', 'keywords': [{'text': 'similar file names', 'sentiment': {'score': 0, 'label': 'neutral'}, 'relevance': 0.754343, 'emotion': {'sadness': 0.241949, 'joy': 0.105252, 'fear': 0.037448, 'disgust': 0.07314, 'anger': 0.08362}, 'count': 1}]}   \n",
       "7037  {'usage': {'text_units': 1, 'text_characters': 272, 'features': 1}, 'language': 'en', 'keywords': [{'text': 'small job', 'sentiment': {'score': 0.756212, 'label': 'positive'}, 'relevance': 0.723411, 'emotion': {'sadness': 0.147012, 'joy': 0.661667, 'fear': 0.085309, 'disgust': 0.029754, 'anger': 0.096078}, 'count': 1}]}   \n",
       "\n",
       "                                                                                                                                                                                                                                                                                                                        normalized  \n",
       "7033                                text  relevance  count  sentiment.score sentiment.label  emotion.sadness  \\\\n0  error    0.82613      1        -0.697416        negative         0.870451   \\n\\n   emotion.joy  emotion.fear  emotion.disgust  emotion.anger  \\n0     0.006608      0.090859         0.058557       0.147008    \n",
       "7034                      text  relevance  count  sentiment.score sentiment.label  \\\\n0  Glass Coca Cola   0.751211      1                0         neutral   \\n\\n   emotion.sadness  emotion.joy  emotion.fear  emotion.disgust  emotion.anger  \\n0          0.19857     0.253808      0.118319         0.113976        0.14925    \n",
       "7035                          text  relevance  count  sentiment.score sentiment.label  \\\\n0  Illustrator   0.692774      1                0         neutral   \\n\\n   emotion.sadness  emotion.joy  emotion.fear  emotion.disgust  emotion.anger  \\n0         0.115133     0.404409      0.464286         0.036661       0.093767    \n",
       "7036                   text  relevance  count  sentiment.score sentiment.label  \\\\n0  similar file names   0.754343      1                0         neutral   \\n\\n   emotion.sadness  emotion.joy  emotion.fear  emotion.disgust  emotion.anger  \\n0         0.241949     0.105252      0.037448          0.07314        0.08362    \n",
       "7037                            text  relevance  count  sentiment.score sentiment.label  \\\\n0  small job   0.723411      1         0.756212        positive   \\n\\n   emotion.sadness  emotion.joy  emotion.fear  emotion.disgust  emotion.anger  \\n0         0.147012     0.661667      0.085309         0.029754       0.096078    "
      ]
     },
     "execution_count": 5,
     "metadata": {},
     "output_type": "execute_result"
    }
   ],
   "source": [
    "test_df.tail() # Inspect DataFrame to ensure Copy was done correctly"
   ]
  },
  {
   "cell_type": "markdown",
   "metadata": {},
   "source": [
    "> **SENTIMENT:** The label is the overall sentiment of the document (positive, negative, or neutral). The sentiment label is based on the score; a score of 0.0 would indicate that the document is neutral, a positive number would indicate the document is positive, a negative number would indicate the document is negative.\n",
    "\n",
    "> **RELEVANCE** The relevance score ranges from 0.0 to 1.0. The higher the score, the more relevant the keyword."
   ]
  },
  {
   "cell_type": "code",
   "execution_count": 6,
   "metadata": {},
   "outputs": [],
   "source": [
    "warnings.filterwarnings('ignore') # Supress Warnings\n",
    "test_df[\"sadness\"] = 0 # Assign a Value of '0' to each new column below\n",
    "test_df[\"joy\"] = 0\n",
    "test_df[\"fear\"] = 0\n",
    "test_df[\"disgust\"] = 0\n",
    "test_df[\"anger\"] = 0\n",
    "test_df[\"keyword\"] = 0\n",
    "test_df[\"relevance_score\"] = 0\n",
    "test_df[\"sentiment_score\"] = 0"
   ]
  },
  {
   "cell_type": "code",
   "execution_count": 7,
   "metadata": {},
   "outputs": [
    {
     "data": {
      "text/html": [
       "<div>\n",
       "<style scoped>\n",
       "    .dataframe tbody tr th:only-of-type {\n",
       "        vertical-align: middle;\n",
       "    }\n",
       "\n",
       "    .dataframe tbody tr th {\n",
       "        vertical-align: top;\n",
       "    }\n",
       "\n",
       "    .dataframe thead th {\n",
       "        text-align: right;\n",
       "    }\n",
       "</style>\n",
       "<table border=\"1\" class=\"dataframe\">\n",
       "  <thead>\n",
       "    <tr style=\"text-align: right;\">\n",
       "      <th></th>\n",
       "      <th>subreddit</th>\n",
       "      <th>title</th>\n",
       "      <th>status_char_length</th>\n",
       "      <th>status_word_count</th>\n",
       "      <th>response</th>\n",
       "      <th>normalized</th>\n",
       "      <th>sadness</th>\n",
       "      <th>joy</th>\n",
       "      <th>fear</th>\n",
       "      <th>disgust</th>\n",
       "      <th>anger</th>\n",
       "      <th>keyword</th>\n",
       "      <th>relevance_score</th>\n",
       "      <th>sentiment_score</th>\n",
       "    </tr>\n",
       "  </thead>\n",
       "  <tbody>\n",
       "    <tr>\n",
       "      <th>0</th>\n",
       "      <td>ProCreate</td>\n",
       "      <td>Recently got an iPad and have never done digital art before. Not perfect, but I think it’s ok for a beginner.</td>\n",
       "      <td>109</td>\n",
       "      <td>21</td>\n",
       "      <td>{'usage': {'text_units': 1, 'text_characters': 109, 'features': 1}, 'language': 'en', 'keywords': [{'text': 'digital art', 'sentiment': {'score': -0.701735, 'label': 'negative'}, 'relevance': 0.80561, 'emotion': {'sadness': 0.314979, 'joy': 0.433697, 'fear': 0.054239, 'disgust': 0.043605, 'anger': 0.12908}, 'count': 1}]}</td>\n",
       "      <td>text  relevance  count  sentiment.score sentiment.label  \\\\n0  digital art    0.80561      1        -0.701735        negative   \\n\\n   emotion.sadness  emotion.joy  emotion.fear  emotion.disgust  emotion.anger  \\n0         0.314979     0.433697      0.054239         0.043605        0.12908</td>\n",
       "      <td>0</td>\n",
       "      <td>0</td>\n",
       "      <td>0</td>\n",
       "      <td>0</td>\n",
       "      <td>0</td>\n",
       "      <td>0</td>\n",
       "      <td>0</td>\n",
       "      <td>0</td>\n",
       "    </tr>\n",
       "  </tbody>\n",
       "</table>\n",
       "</div>"
      ],
      "text/plain": [
       "   subreddit  \\\n",
       "0  ProCreate   \n",
       "\n",
       "                                                                                                           title  \\\n",
       "0  Recently got an iPad and have never done digital art before. Not perfect, but I think it’s ok for a beginner.   \n",
       "\n",
       "   status_char_length  status_word_count  \\\n",
       "0                 109                 21   \n",
       "\n",
       "                                                                                                                                                                                                                                                                                                                             response  \\\n",
       "0  {'usage': {'text_units': 1, 'text_characters': 109, 'features': 1}, 'language': 'en', 'keywords': [{'text': 'digital art', 'sentiment': {'score': -0.701735, 'label': 'negative'}, 'relevance': 0.80561, 'emotion': {'sadness': 0.314979, 'joy': 0.433697, 'fear': 0.054239, 'disgust': 0.043605, 'anger': 0.12908}, 'count': 1}]}   \n",
       "\n",
       "                                                                                                                                                                                                                                                                                                       normalized  \\\n",
       "0            text  relevance  count  sentiment.score sentiment.label  \\\\n0  digital art    0.80561      1        -0.701735        negative   \\n\\n   emotion.sadness  emotion.joy  emotion.fear  emotion.disgust  emotion.anger  \\n0         0.314979     0.433697      0.054239         0.043605        0.12908     \n",
       "\n",
       "   sadness  joy  fear  disgust  anger  keyword  relevance_score  \\\n",
       "0        0    0     0        0      0        0                0   \n",
       "\n",
       "   sentiment_score  \n",
       "0                0  "
      ]
     },
     "execution_count": 7,
     "metadata": {},
     "output_type": "execute_result"
    }
   ],
   "source": [
    "test_df.head(1) # Inspect Data Frame"
   ]
  },
  {
   "cell_type": "code",
   "execution_count": 8,
   "metadata": {},
   "outputs": [],
   "source": [
    "test_df['response'] = test_df['response'].apply(lambda x: ast.literal_eval(x)) # convert to Dictionary\n",
    "# https://stackoverflow.com/questions/39169718/convert-string-to-dict-then-access-keyvalues-how-to-access-data-in-a-class"
   ]
  },
  {
   "cell_type": "code",
   "execution_count": 9,
   "metadata": {},
   "outputs": [],
   "source": [
    "for i in range(0,len(test_df)):\n",
    "    try:\n",
    "        test_df[\"sadness\"][i] = str(test_df['response'][i]['keywords'][0]['emotion']['sadness'])\n",
    "        test_df[\"joy\"][i] = str(test_df['response'][i]['keywords'][0]['emotion']['joy'])\n",
    "        test_df[\"fear\"][i] = str(test_df['response'][i]['keywords'][0]['emotion']['fear'])\n",
    "        test_df[\"disgust\"][i] = str(test_df['response'][i]['keywords'][0]['emotion']['disgust'])\n",
    "        test_df[\"anger\"][i] = str(test_df['response'][i]['keywords'][0]['emotion']['anger'])\n",
    "        test_df[\"keyword\"][i] = str(test_df['response'][i]['keywords'][0]['text'])\n",
    "        test_df[\"relevance_score\"][i] = str(test_df['response'][i]['keywords'][0]['relevance'])\n",
    "        test_df[\"sentiment_score\"][i] = str(test_df['response'][i]['keywords'][0]['sentiment']['score'])\n",
    "    except:\n",
    "        continue"
   ]
  },
  {
   "cell_type": "code",
   "execution_count": 10,
   "metadata": {},
   "outputs": [
    {
     "data": {
      "text/html": [
       "<div>\n",
       "<style scoped>\n",
       "    .dataframe tbody tr th:only-of-type {\n",
       "        vertical-align: middle;\n",
       "    }\n",
       "\n",
       "    .dataframe tbody tr th {\n",
       "        vertical-align: top;\n",
       "    }\n",
       "\n",
       "    .dataframe thead th {\n",
       "        text-align: right;\n",
       "    }\n",
       "</style>\n",
       "<table border=\"1\" class=\"dataframe\">\n",
       "  <thead>\n",
       "    <tr style=\"text-align: right;\">\n",
       "      <th></th>\n",
       "      <th>subreddit</th>\n",
       "      <th>title</th>\n",
       "      <th>status_char_length</th>\n",
       "      <th>status_word_count</th>\n",
       "      <th>response</th>\n",
       "      <th>normalized</th>\n",
       "      <th>sadness</th>\n",
       "      <th>joy</th>\n",
       "      <th>fear</th>\n",
       "      <th>disgust</th>\n",
       "      <th>anger</th>\n",
       "      <th>keyword</th>\n",
       "      <th>relevance_score</th>\n",
       "      <th>sentiment_score</th>\n",
       "    </tr>\n",
       "  </thead>\n",
       "  <tbody>\n",
       "    <tr>\n",
       "      <th>7036</th>\n",
       "      <td>AdobeIllustrator</td>\n",
       "      <td>Is there a way to batch-populate folders with similar file names? Possibly using Adobe Bridge?</td>\n",
       "      <td>94</td>\n",
       "      <td>15</td>\n",
       "      <td>{'usage': {'text_units': 1, 'text_characters': 94, 'features': 1}, 'language': 'en', 'keywords': [{'text': 'similar file names', 'sentiment': {'score': 0, 'label': 'neutral'}, 'relevance': 0.754343, 'emotion': {'sadness': 0.241949, 'joy': 0.105252, 'fear': 0.037448, 'disgust': 0.07314, 'anger': 0.08362}, 'count': 1}]}</td>\n",
       "      <td>text  relevance  count  sentiment.score sentiment.label  \\\\n0  similar file names   0.754343      1                0         neutral   \\n\\n   emotion.sadness  emotion.joy  emotion.fear  emotion.disgust  emotion.anger  \\n0         0.241949     0.105252      0.037448          0.07314        0.08362</td>\n",
       "      <td>0.241949</td>\n",
       "      <td>0.105252</td>\n",
       "      <td>0.037448</td>\n",
       "      <td>0.07314</td>\n",
       "      <td>0.08362</td>\n",
       "      <td>similar file names</td>\n",
       "      <td>0.754343</td>\n",
       "      <td>0</td>\n",
       "    </tr>\n",
       "    <tr>\n",
       "      <th>7037</th>\n",
       "      <td>AdobeIllustrator</td>\n",
       "      <td>Hey illustrators... I'm relatively new to illustrator but have taken on a small job for a friend of a friend. Maybe I'm just overtired but what the hell is this thing? I can't make it go away and have no idea how I even got it up in the first place. Any advice appreciated</td>\n",
       "      <td>272</td>\n",
       "      <td>54</td>\n",
       "      <td>{'usage': {'text_units': 1, 'text_characters': 272, 'features': 1}, 'language': 'en', 'keywords': [{'text': 'small job', 'sentiment': {'score': 0.756212, 'label': 'positive'}, 'relevance': 0.723411, 'emotion': {'sadness': 0.147012, 'joy': 0.661667, 'fear': 0.085309, 'disgust': 0.029754, 'anger': 0.096078}, 'count': 1}]}</td>\n",
       "      <td>text  relevance  count  sentiment.score sentiment.label  \\\\n0  small job   0.723411      1         0.756212        positive   \\n\\n   emotion.sadness  emotion.joy  emotion.fear  emotion.disgust  emotion.anger  \\n0         0.147012     0.661667      0.085309         0.029754       0.096078</td>\n",
       "      <td>0.147012</td>\n",
       "      <td>0.661667</td>\n",
       "      <td>0.085309</td>\n",
       "      <td>0.029754</td>\n",
       "      <td>0.096078</td>\n",
       "      <td>small job</td>\n",
       "      <td>0.723411</td>\n",
       "      <td>0.756212</td>\n",
       "    </tr>\n",
       "  </tbody>\n",
       "</table>\n",
       "</div>"
      ],
      "text/plain": [
       "             subreddit  \\\n",
       "7036  AdobeIllustrator   \n",
       "7037  AdobeIllustrator   \n",
       "\n",
       "                                                                                                                                                                                                                                                                                 title  \\\n",
       "7036                                                                                                                                                                                    Is there a way to batch-populate folders with similar file names? Possibly using Adobe Bridge?   \n",
       "7037  Hey illustrators... I'm relatively new to illustrator but have taken on a small job for a friend of a friend. Maybe I'm just overtired but what the hell is this thing? I can't make it go away and have no idea how I even got it up in the first place. Any advice appreciated   \n",
       "\n",
       "      status_char_length  status_word_count  \\\n",
       "7036                  94                 15   \n",
       "7037                 272                 54   \n",
       "\n",
       "                                                                                                                                                                                                                                                                                                                               response  \\\n",
       "7036    {'usage': {'text_units': 1, 'text_characters': 94, 'features': 1}, 'language': 'en', 'keywords': [{'text': 'similar file names', 'sentiment': {'score': 0, 'label': 'neutral'}, 'relevance': 0.754343, 'emotion': {'sadness': 0.241949, 'joy': 0.105252, 'fear': 0.037448, 'disgust': 0.07314, 'anger': 0.08362}, 'count': 1}]}   \n",
       "7037  {'usage': {'text_units': 1, 'text_characters': 272, 'features': 1}, 'language': 'en', 'keywords': [{'text': 'small job', 'sentiment': {'score': 0.756212, 'label': 'positive'}, 'relevance': 0.723411, 'emotion': {'sadness': 0.147012, 'joy': 0.661667, 'fear': 0.085309, 'disgust': 0.029754, 'anger': 0.096078}, 'count': 1}]}   \n",
       "\n",
       "                                                                                                                                                                                                                                                                                                                        normalized  \\\n",
       "7036                   text  relevance  count  sentiment.score sentiment.label  \\\\n0  similar file names   0.754343      1                0         neutral   \\n\\n   emotion.sadness  emotion.joy  emotion.fear  emotion.disgust  emotion.anger  \\n0         0.241949     0.105252      0.037448          0.07314        0.08362     \n",
       "7037                            text  relevance  count  sentiment.score sentiment.label  \\\\n0  small job   0.723411      1         0.756212        positive   \\n\\n   emotion.sadness  emotion.joy  emotion.fear  emotion.disgust  emotion.anger  \\n0         0.147012     0.661667      0.085309         0.029754       0.096078     \n",
       "\n",
       "       sadness       joy      fear   disgust     anger             keyword  \\\n",
       "7036  0.241949  0.105252  0.037448   0.07314   0.08362  similar file names   \n",
       "7037  0.147012  0.661667  0.085309  0.029754  0.096078           small job   \n",
       "\n",
       "     relevance_score sentiment_score  \n",
       "7036        0.754343               0  \n",
       "7037        0.723411        0.756212  "
      ]
     },
     "execution_count": 10,
     "metadata": {},
     "output_type": "execute_result"
    }
   ],
   "source": [
    "test_df.tail(2)"
   ]
  },
  {
   "cell_type": "code",
   "execution_count": 11,
   "metadata": {},
   "outputs": [
    {
     "data": {
      "text/plain": [
       "subreddit             object\n",
       "title                 object\n",
       "status_char_length     int64\n",
       "status_word_count      int64\n",
       "response              object\n",
       "normalized            object\n",
       "sadness               object\n",
       "joy                   object\n",
       "fear                  object\n",
       "disgust               object\n",
       "anger                 object\n",
       "keyword               object\n",
       "relevance_score       object\n",
       "sentiment_score       object\n",
       "dtype: object"
      ]
     },
     "execution_count": 11,
     "metadata": {},
     "output_type": "execute_result"
    }
   ],
   "source": [
    "test_df.dtypes # Check DataTypes to ensure scores have been converted to Numbers"
   ]
  },
  {
   "cell_type": "markdown",
   "metadata": {},
   "source": [
    "> Convert String to Integers"
   ]
  },
  {
   "cell_type": "code",
   "execution_count": 12,
   "metadata": {},
   "outputs": [],
   "source": [
    "test_df[\"sadness\"] = test_df[\"sadness\"].astype(float)\n",
    "test_df[\"joy\"] = test_df[\"joy\"].astype(float)\n",
    "test_df[\"fear\"] = test_df[\"fear\"].astype(float)\n",
    "test_df[\"disgust\"] = test_df[\"disgust\"].astype(float)\n",
    "test_df[\"anger\"] = test_df[\"anger\"].astype(float)\n",
    "test_df[\"relevance_score\"] = test_df[\"relevance_score\"].astype(float)\n",
    "test_df[\"sentiment_score\"] = test_df[\"sentiment_score\"].astype(float)"
   ]
  },
  {
   "cell_type": "code",
   "execution_count": 13,
   "metadata": {},
   "outputs": [
    {
     "data": {
      "text/plain": [
       "subreddit              object\n",
       "title                  object\n",
       "status_char_length      int64\n",
       "status_word_count       int64\n",
       "response               object\n",
       "normalized             object\n",
       "sadness               float64\n",
       "joy                   float64\n",
       "fear                  float64\n",
       "disgust               float64\n",
       "anger                 float64\n",
       "keyword                object\n",
       "relevance_score       float64\n",
       "sentiment_score       float64\n",
       "dtype: object"
      ]
     },
     "execution_count": 13,
     "metadata": {},
     "output_type": "execute_result"
    }
   ],
   "source": [
    "test_df.dtypes"
   ]
  },
  {
   "cell_type": "markdown",
   "metadata": {},
   "source": [
    "## 4.0 Add Date and Subscribers To DataFrame<a name=\"four\"></a>\n",
    "\n",
    "> We add data and Subscriber count to Current DataFrame to prep for Final Analysis"
   ]
  },
  {
   "cell_type": "code",
   "execution_count": 14,
   "metadata": {},
   "outputs": [
    {
     "data": {
      "text/html": [
       "<div>\n",
       "<style scoped>\n",
       "    .dataframe tbody tr th:only-of-type {\n",
       "        vertical-align: middle;\n",
       "    }\n",
       "\n",
       "    .dataframe tbody tr th {\n",
       "        vertical-align: top;\n",
       "    }\n",
       "\n",
       "    .dataframe thead th {\n",
       "        text-align: right;\n",
       "    }\n",
       "</style>\n",
       "<table border=\"1\" class=\"dataframe\">\n",
       "  <thead>\n",
       "    <tr style=\"text-align: right;\">\n",
       "      <th></th>\n",
       "      <th>created_utc</th>\n",
       "      <th>subreddit_subscribers</th>\n",
       "      <th>title</th>\n",
       "    </tr>\n",
       "  </thead>\n",
       "  <tbody>\n",
       "    <tr>\n",
       "      <th>0</th>\n",
       "      <td>1546313619</td>\n",
       "      <td>4227</td>\n",
       "      <td>Giving this a go!</td>\n",
       "    </tr>\n",
       "    <tr>\n",
       "      <th>1</th>\n",
       "      <td>1546320962</td>\n",
       "      <td>4228</td>\n",
       "      <td>Recently got an iPad and have never done digital art before. Not perfect, but I think it’s ok for a beginner.</td>\n",
       "    </tr>\n",
       "    <tr>\n",
       "      <th>2</th>\n",
       "      <td>1546326030</td>\n",
       "      <td>4230</td>\n",
       "      <td>Occasionally can't draw in specific spots?</td>\n",
       "    </tr>\n",
       "    <tr>\n",
       "      <th>3</th>\n",
       "      <td>1546367646</td>\n",
       "      <td>4238</td>\n",
       "      <td>Day 1 • 365 challenge</td>\n",
       "    </tr>\n",
       "    <tr>\n",
       "      <th>4</th>\n",
       "      <td>1546397226</td>\n",
       "      <td>4251</td>\n",
       "      <td>First finished painting in procreate! Trying for 31 flowers in January.</td>\n",
       "    </tr>\n",
       "  </tbody>\n",
       "</table>\n",
       "</div>"
      ],
      "text/plain": [
       "   created_utc  subreddit_subscribers  \\\n",
       "0   1546313619                   4227   \n",
       "1   1546320962                   4228   \n",
       "2   1546326030                   4230   \n",
       "3   1546367646                   4238   \n",
       "4   1546397226                   4251   \n",
       "\n",
       "                                                                                                           title  \n",
       "0                                                                                              Giving this a go!  \n",
       "1  Recently got an iPad and have never done digital art before. Not perfect, but I think it’s ok for a beginner.  \n",
       "2                                                                     Occasionally can't draw in specific spots?  \n",
       "3                                                                                          Day 1 • 365 challenge  \n",
       "4                                        First finished painting in procreate! Trying for 31 flowers in January.  "
      ]
     },
     "execution_count": 14,
     "metadata": {},
     "output_type": "execute_result"
    }
   ],
   "source": [
    "df_time = pd.read_csv('/data/1_Scraped_Data_IBM/ibm_watson_time.csv') # Import DataFrame"
   ]
  },
  {
   "cell_type": "code",
   "execution_count": 15,
   "metadata": {},
   "outputs": [
    {
     "data": {
      "text/plain": [
       "(10011, 3)"
      ]
     },
     "execution_count": 15,
     "metadata": {},
     "output_type": "execute_result"
    }
   ],
   "source": [
    "df_time.shape # Check Current Shape of DataFrame"
   ]
  },
  {
   "cell_type": "code",
   "execution_count": 16,
   "metadata": {},
   "outputs": [],
   "source": [
    "df_time['status_word_count'] = [len(df_time['title'][i].split()) for i in range(0,df_time['title'].shape[0])]\n",
    "# Split on the spaces and then count the number of words with Lenght in-built function"
   ]
  },
  {
   "cell_type": "code",
   "execution_count": 17,
   "metadata": {},
   "outputs": [
    {
     "data": {
      "text/plain": [
       "(10011, 4)"
      ]
     },
     "execution_count": 17,
     "metadata": {},
     "output_type": "execute_result"
    }
   ],
   "source": [
    "df_time.shape # Check Current Shape to ensure row was added"
   ]
  },
  {
   "cell_type": "code",
   "execution_count": 18,
   "metadata": {},
   "outputs": [],
   "source": [
    "df_time = df_time[df_time['status_word_count'] > 5]\n",
    "# Drop rows with less than 5 words to align with IBM data frame we want to Concat to"
   ]
  },
  {
   "cell_type": "code",
   "execution_count": 19,
   "metadata": {},
   "outputs": [],
   "source": [
    "df_time.reset_index(inplace = True, drop = True)\n",
    "# Reset Index and ensure dataframe updates automatically"
   ]
  },
  {
   "cell_type": "code",
   "execution_count": 20,
   "metadata": {},
   "outputs": [
    {
     "data": {
      "text/plain": [
       "(7038, 4)"
      ]
     },
     "execution_count": 20,
     "metadata": {},
     "output_type": "execute_result"
    }
   ],
   "source": [
    "df_time.shape # Checking shape to ensure this was done correctly"
   ]
  },
  {
   "cell_type": "code",
   "execution_count": 21,
   "metadata": {},
   "outputs": [
    {
     "data": {
      "text/plain": [
       "(7038, 14)"
      ]
     },
     "execution_count": 21,
     "metadata": {},
     "output_type": "execute_result"
    }
   ],
   "source": [
    "test_df.shape # df_time.shape(0) equals test_df.shape(0) so we are fine"
   ]
  },
  {
   "cell_type": "code",
   "execution_count": 22,
   "metadata": {},
   "outputs": [],
   "source": [
    "test_df['time'] = df_time['created_utc'] # Add epoch time to new DataFrame"
   ]
  },
  {
   "cell_type": "code",
   "execution_count": 23,
   "metadata": {},
   "outputs": [],
   "source": [
    "test_df['subscribers'] = df_time['subreddit_subscribers'] # Add Subreddit Subscribers to new time dataframe"
   ]
  },
  {
   "cell_type": "code",
   "execution_count": 24,
   "metadata": {},
   "outputs": [
    {
     "data": {
      "text/html": [
       "<div>\n",
       "<style scoped>\n",
       "    .dataframe tbody tr th:only-of-type {\n",
       "        vertical-align: middle;\n",
       "    }\n",
       "\n",
       "    .dataframe tbody tr th {\n",
       "        vertical-align: top;\n",
       "    }\n",
       "\n",
       "    .dataframe thead th {\n",
       "        text-align: right;\n",
       "    }\n",
       "</style>\n",
       "<table border=\"1\" class=\"dataframe\">\n",
       "  <thead>\n",
       "    <tr style=\"text-align: right;\">\n",
       "      <th></th>\n",
       "      <th>subreddit</th>\n",
       "      <th>title</th>\n",
       "      <th>status_char_length</th>\n",
       "      <th>status_word_count</th>\n",
       "      <th>response</th>\n",
       "      <th>normalized</th>\n",
       "      <th>sadness</th>\n",
       "      <th>joy</th>\n",
       "      <th>fear</th>\n",
       "      <th>disgust</th>\n",
       "      <th>anger</th>\n",
       "      <th>keyword</th>\n",
       "      <th>relevance_score</th>\n",
       "      <th>sentiment_score</th>\n",
       "      <th>time</th>\n",
       "      <th>subscribers</th>\n",
       "    </tr>\n",
       "  </thead>\n",
       "  <tbody>\n",
       "    <tr>\n",
       "      <th>0</th>\n",
       "      <td>ProCreate</td>\n",
       "      <td>Recently got an iPad and have never done digital art before. Not perfect, but I think it’s ok for a beginner.</td>\n",
       "      <td>109</td>\n",
       "      <td>21</td>\n",
       "      <td>{'usage': {'text_units': 1, 'text_characters': 109, 'features': 1}, 'language': 'en', 'keywords': [{'text': 'digital art', 'sentiment': {'score': -0.701735, 'label': 'negative'}, 'relevance': 0.80561, 'emotion': {'sadness': 0.314979, 'joy': 0.433697, 'fear': 0.054239, 'disgust': 0.043605, 'anger': 0.12908}, 'count': 1}]}</td>\n",
       "      <td>text  relevance  count  sentiment.score sentiment.label  \\\\n0  digital art    0.80561      1        -0.701735        negative   \\n\\n   emotion.sadness  emotion.joy  emotion.fear  emotion.disgust  emotion.anger  \\n0         0.314979     0.433697      0.054239         0.043605        0.12908</td>\n",
       "      <td>0.314979</td>\n",
       "      <td>0.433697</td>\n",
       "      <td>0.054239</td>\n",
       "      <td>0.043605</td>\n",
       "      <td>0.12908</td>\n",
       "      <td>digital art</td>\n",
       "      <td>0.80561</td>\n",
       "      <td>-0.701735</td>\n",
       "      <td>1546320962</td>\n",
       "      <td>4228</td>\n",
       "    </tr>\n",
       "  </tbody>\n",
       "</table>\n",
       "</div>"
      ],
      "text/plain": [
       "   subreddit  \\\n",
       "0  ProCreate   \n",
       "\n",
       "                                                                                                           title  \\\n",
       "0  Recently got an iPad and have never done digital art before. Not perfect, but I think it’s ok for a beginner.   \n",
       "\n",
       "   status_char_length  status_word_count  \\\n",
       "0                 109                 21   \n",
       "\n",
       "                                                                                                                                                                                                                                                                                                                             response  \\\n",
       "0  {'usage': {'text_units': 1, 'text_characters': 109, 'features': 1}, 'language': 'en', 'keywords': [{'text': 'digital art', 'sentiment': {'score': -0.701735, 'label': 'negative'}, 'relevance': 0.80561, 'emotion': {'sadness': 0.314979, 'joy': 0.433697, 'fear': 0.054239, 'disgust': 0.043605, 'anger': 0.12908}, 'count': 1}]}   \n",
       "\n",
       "                                                                                                                                                                                                                                                                                                       normalized  \\\n",
       "0            text  relevance  count  sentiment.score sentiment.label  \\\\n0  digital art    0.80561      1        -0.701735        negative   \\n\\n   emotion.sadness  emotion.joy  emotion.fear  emotion.disgust  emotion.anger  \\n0         0.314979     0.433697      0.054239         0.043605        0.12908     \n",
       "\n",
       "    sadness       joy      fear   disgust    anger      keyword  \\\n",
       "0  0.314979  0.433697  0.054239  0.043605  0.12908  digital art   \n",
       "\n",
       "   relevance_score  sentiment_score        time  subscribers  \n",
       "0          0.80561        -0.701735  1546320962         4228  "
      ]
     },
     "execution_count": 24,
     "metadata": {},
     "output_type": "execute_result"
    }
   ],
   "source": [
    "test_df[test_df['subreddit'] == 'ProCreate'].head(1) # Inspect the head"
   ]
  },
  {
   "cell_type": "code",
   "execution_count": 25,
   "metadata": {},
   "outputs": [],
   "source": [
    "test_df['date'] = pd.to_datetime(test_df['time'],unit='s') # Convert Epoch Time to standard date format"
   ]
  },
  {
   "cell_type": "code",
   "execution_count": 26,
   "metadata": {},
   "outputs": [
    {
     "data": {
      "text/html": [
       "<div>\n",
       "<style scoped>\n",
       "    .dataframe tbody tr th:only-of-type {\n",
       "        vertical-align: middle;\n",
       "    }\n",
       "\n",
       "    .dataframe tbody tr th {\n",
       "        vertical-align: top;\n",
       "    }\n",
       "\n",
       "    .dataframe thead th {\n",
       "        text-align: right;\n",
       "    }\n",
       "</style>\n",
       "<table border=\"1\" class=\"dataframe\">\n",
       "  <thead>\n",
       "    <tr style=\"text-align: right;\">\n",
       "      <th></th>\n",
       "      <th>subreddit</th>\n",
       "      <th>title</th>\n",
       "      <th>status_char_length</th>\n",
       "      <th>status_word_count</th>\n",
       "      <th>response</th>\n",
       "      <th>normalized</th>\n",
       "      <th>sadness</th>\n",
       "      <th>joy</th>\n",
       "      <th>fear</th>\n",
       "      <th>disgust</th>\n",
       "      <th>anger</th>\n",
       "      <th>keyword</th>\n",
       "      <th>relevance_score</th>\n",
       "      <th>sentiment_score</th>\n",
       "      <th>time</th>\n",
       "      <th>subscribers</th>\n",
       "      <th>date</th>\n",
       "    </tr>\n",
       "  </thead>\n",
       "  <tbody>\n",
       "    <tr>\n",
       "      <th>0</th>\n",
       "      <td>ProCreate</td>\n",
       "      <td>Recently got an iPad and have never done digital art before. Not perfect, but I think it’s ok for a beginner.</td>\n",
       "      <td>109</td>\n",
       "      <td>21</td>\n",
       "      <td>{'usage': {'text_units': 1, 'text_characters': 109, 'features': 1}, 'language': 'en', 'keywords': [{'text': 'digital art', 'sentiment': {'score': -0.701735, 'label': 'negative'}, 'relevance': 0.80561, 'emotion': {'sadness': 0.314979, 'joy': 0.433697, 'fear': 0.054239, 'disgust': 0.043605, 'anger': 0.12908}, 'count': 1}]}</td>\n",
       "      <td>text  relevance  count  sentiment.score sentiment.label  \\\\n0  digital art    0.80561      1        -0.701735        negative   \\n\\n   emotion.sadness  emotion.joy  emotion.fear  emotion.disgust  emotion.anger  \\n0         0.314979     0.433697      0.054239         0.043605        0.12908</td>\n",
       "      <td>0.314979</td>\n",
       "      <td>0.433697</td>\n",
       "      <td>0.054239</td>\n",
       "      <td>0.043605</td>\n",
       "      <td>0.12908</td>\n",
       "      <td>digital art</td>\n",
       "      <td>0.80561</td>\n",
       "      <td>-0.701735</td>\n",
       "      <td>1546320962</td>\n",
       "      <td>4228</td>\n",
       "      <td>2019-01-01 05:36:02</td>\n",
       "    </tr>\n",
       "  </tbody>\n",
       "</table>\n",
       "</div>"
      ],
      "text/plain": [
       "   subreddit  \\\n",
       "0  ProCreate   \n",
       "\n",
       "                                                                                                           title  \\\n",
       "0  Recently got an iPad and have never done digital art before. Not perfect, but I think it’s ok for a beginner.   \n",
       "\n",
       "   status_char_length  status_word_count  \\\n",
       "0                 109                 21   \n",
       "\n",
       "                                                                                                                                                                                                                                                                                                                             response  \\\n",
       "0  {'usage': {'text_units': 1, 'text_characters': 109, 'features': 1}, 'language': 'en', 'keywords': [{'text': 'digital art', 'sentiment': {'score': -0.701735, 'label': 'negative'}, 'relevance': 0.80561, 'emotion': {'sadness': 0.314979, 'joy': 0.433697, 'fear': 0.054239, 'disgust': 0.043605, 'anger': 0.12908}, 'count': 1}]}   \n",
       "\n",
       "                                                                                                                                                                                                                                                                                                       normalized  \\\n",
       "0            text  relevance  count  sentiment.score sentiment.label  \\\\n0  digital art    0.80561      1        -0.701735        negative   \\n\\n   emotion.sadness  emotion.joy  emotion.fear  emotion.disgust  emotion.anger  \\n0         0.314979     0.433697      0.054239         0.043605        0.12908     \n",
       "\n",
       "    sadness       joy      fear   disgust    anger      keyword  \\\n",
       "0  0.314979  0.433697  0.054239  0.043605  0.12908  digital art   \n",
       "\n",
       "   relevance_score  sentiment_score        time  subscribers  \\\n",
       "0          0.80561        -0.701735  1546320962         4228   \n",
       "\n",
       "                 date  \n",
       "0 2019-01-01 05:36:02  "
      ]
     },
     "execution_count": 26,
     "metadata": {},
     "output_type": "execute_result"
    }
   ],
   "source": [
    "test_df.head(1) # Inspect Head to ensure change above executed correctly"
   ]
  },
  {
   "cell_type": "code",
   "execution_count": 27,
   "metadata": {},
   "outputs": [],
   "source": [
    "test_df.drop(['response','normalized','keyword','time','relevance_score'], axis=1, inplace=True)\n",
    "# Drop Columns we don't need"
   ]
  },
  {
   "cell_type": "code",
   "execution_count": 28,
   "metadata": {},
   "outputs": [
    {
     "data": {
      "text/html": [
       "<div>\n",
       "<style scoped>\n",
       "    .dataframe tbody tr th:only-of-type {\n",
       "        vertical-align: middle;\n",
       "    }\n",
       "\n",
       "    .dataframe tbody tr th {\n",
       "        vertical-align: top;\n",
       "    }\n",
       "\n",
       "    .dataframe thead th {\n",
       "        text-align: right;\n",
       "    }\n",
       "</style>\n",
       "<table border=\"1\" class=\"dataframe\">\n",
       "  <thead>\n",
       "    <tr style=\"text-align: right;\">\n",
       "      <th></th>\n",
       "      <th>subreddit</th>\n",
       "      <th>title</th>\n",
       "      <th>status_char_length</th>\n",
       "      <th>status_word_count</th>\n",
       "      <th>sadness</th>\n",
       "      <th>joy</th>\n",
       "      <th>fear</th>\n",
       "      <th>disgust</th>\n",
       "      <th>anger</th>\n",
       "      <th>sentiment_score</th>\n",
       "      <th>subscribers</th>\n",
       "      <th>date</th>\n",
       "    </tr>\n",
       "  </thead>\n",
       "  <tbody>\n",
       "    <tr>\n",
       "      <th>0</th>\n",
       "      <td>ProCreate</td>\n",
       "      <td>Recently got an iPad and have never done digital art before. Not perfect, but I think it’s ok for a beginner.</td>\n",
       "      <td>109</td>\n",
       "      <td>21</td>\n",
       "      <td>0.314979</td>\n",
       "      <td>0.433697</td>\n",
       "      <td>0.054239</td>\n",
       "      <td>0.043605</td>\n",
       "      <td>0.12908</td>\n",
       "      <td>-0.701735</td>\n",
       "      <td>4228</td>\n",
       "      <td>2019-01-01 05:36:02</td>\n",
       "    </tr>\n",
       "  </tbody>\n",
       "</table>\n",
       "</div>"
      ],
      "text/plain": [
       "   subreddit  \\\n",
       "0  ProCreate   \n",
       "\n",
       "                                                                                                           title  \\\n",
       "0  Recently got an iPad and have never done digital art before. Not perfect, but I think it’s ok for a beginner.   \n",
       "\n",
       "   status_char_length  status_word_count   sadness       joy      fear  \\\n",
       "0                 109                 21  0.314979  0.433697  0.054239   \n",
       "\n",
       "    disgust    anger  sentiment_score  subscribers                date  \n",
       "0  0.043605  0.12908        -0.701735         4228 2019-01-01 05:36:02  "
      ]
     },
     "execution_count": 28,
     "metadata": {},
     "output_type": "execute_result"
    }
   ],
   "source": [
    "test_df.head(1) # Inspect Head to ensure change above executed correctly"
   ]
  },
  {
   "cell_type": "code",
   "execution_count": 29,
   "metadata": {},
   "outputs": [
    {
     "name": "stdout",
     "output_type": "stream",
     "text": [
      "Submission CSV is ready!\n"
     ]
    }
   ],
   "source": [
    "# Write the DataFrame you created to a csv called 'final.csv'\n",
    "test_df.to_csv('data/3_Final_Cleaning/final.csv', index=False)\n",
    "print('Submission CSV is ready!')"
   ]
  }
 ],
 "metadata": {
  "kernelspec": {
   "display_name": "Python 3",
   "language": "python",
   "name": "python3"
  },
  "language_info": {
   "codemirror_mode": {
    "name": "ipython",
    "version": 3
   },
   "file_extension": ".py",
   "mimetype": "text/x-python",
   "name": "python",
   "nbconvert_exporter": "python",
   "pygments_lexer": "ipython3",
   "version": "3.8.3"
  }
 },
 "nbformat": 4,
 "nbformat_minor": 1
}
