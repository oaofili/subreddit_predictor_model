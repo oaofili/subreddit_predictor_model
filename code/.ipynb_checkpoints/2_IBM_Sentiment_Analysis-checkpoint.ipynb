{
 "cells": [
  {
   "cell_type": "markdown",
   "metadata": {},
   "source": [
    "# Project 3 - Using Natural Language Understanding and Sentiment"
   ]
  },
  {
   "cell_type": "markdown",
   "metadata": {},
   "source": [
    "> <font color=red>**NOTE:** This Jupyter Notebook is a save-as from an Existing IBM NoteBook from the GitHub of Scott D'Angelo with minor modifications made by me. Also the order of flow of the NoteBook will be off, due to API call limitations by IBM Watson NLU Program. This meant I could not rerun the notebook to get the code to be chronological.</font>\n",
    "\n",
    "In this portion of the workshop, we'll use an instance of [Watson Natural Language Understanding](https://cloud.ibm.com/catalog/services/natural-language-understanding) to gather insights into data.\n",
    "\n",
    "Watson Natural Language Understanding is a cloud native product that uses deep learning to extract metadata from text such as entities, keywords, categories, sentiment, emotion, relations, and syntax.\n",
    "There is a rich [API](https://cloud.ibm.com/apidocs/natural-language-understanding?code=python) that we will use along with the [Watson Python SDK](https://github.com/watson-developer-cloud/python-sdk) to analyze our data."
   ]
  },
  {
   "cell_type": "markdown",
   "metadata": {},
   "source": [
    "## Contents\n",
    "\n",
    "- [1.0 Setup - install modules](#setup)\n",
    "- [2.0 Test NLU APIs](#test)\n",
    "- [3.0 Import Data and Setup Pandas Dataframe ](#pandas)\n",
    "- [4.0 Clean and Prepare Data for NLU scoring](#clean)\n",
    "- [5.0 Get Sentiment by Row](#sentiment-row)"
   ]
  },
  {
   "cell_type": "markdown",
   "metadata": {},
   "source": [
    "## 1.0 Setup - Install Modules<a name=\"setup\"></a>"
   ]
  },
  {
   "cell_type": "markdown",
   "metadata": {},
   "source": [
    "We use the [Watson Python SDK](https://github.com/watson-developer-cloud/python-sdk) to access the [NLU APIs](https://cloud.ibm.com/apidocs/natural-language-understanding?code=python) programatically."
   ]
  },
  {
   "cell_type": "markdown",
   "metadata": {},
   "source": [
    "Import python modules from the Watson Python SDKs"
   ]
  },
  {
   "cell_type": "code",
   "execution_count": 1,
   "metadata": {},
   "outputs": [],
   "source": [
    "import json\n",
    "from ibm_watson import NaturalLanguageUnderstandingV1\n",
    "from ibm_cloud_sdk_core.authenticators import IAMAuthenticator\n",
    "from ibm_watson.natural_language_understanding_v1 import Features,CategoriesOptions,EmotionOptions,KeywordsOptions"
   ]
  },
  {
   "cell_type": "code",
   "execution_count": 94,
   "metadata": {},
   "outputs": [],
   "source": [
    "# Warning\n",
    "import warnings\n",
    "warnings.filterwarnings('ignore')\n",
    "\n",
    "import pandas as pd\n",
    "import numpy as np\n",
    "from datetime import datetime"
   ]
  },
  {
   "cell_type": "markdown",
   "metadata": {},
   "source": [
    "### 1.1 Add NLU credentials\n",
    "Get the [IAM Authentication Key](https://cloud.ibm.com/apidocs/natural-language-understanding?code=python#authentication) and [Service URL](https://cloud.ibm.com/apidocs/natural-language-understanding?code=python#service-endpoint) that you obtained when you [Created a Watson NLU instance](https://github.ibm.com/IBMDeveloper/python-and-analytics/tree/addNLU/workshop/natural-language-understanding#create-a-watson-nlu-instance)."
   ]
  },
  {
   "cell_type": "markdown",
   "metadata": {},
   "source": [
    "Add your [IAM Authentication Key](https://cloud.ibm.com/apidocs/natural-language-understanding?code=python#authentication) below."
   ]
  },
  {
   "cell_type": "code",
   "execution_count": 15,
   "metadata": {},
   "outputs": [],
   "source": [
    "IAM_KEY = 'qIuo8c51R0YFODWhAuVGpiF0cdb-QUe239zy2X--L0rN'"
   ]
  },
  {
   "cell_type": "markdown",
   "metadata": {},
   "source": [
    "Add your [NLU Service URL](https://cloud.ibm.com/apidocs/natural-language-understanding?code=python#service-endpoint) below"
   ]
  },
  {
   "cell_type": "code",
   "execution_count": 16,
   "metadata": {},
   "outputs": [],
   "source": [
    "SERVICE_URL = 'https://api.us-south.natural-language-understanding.watson.cloud.ibm.com/instances/b3f729b2-7149-455c-902b-eea149f75e49'"
   ]
  },
  {
   "cell_type": "markdown",
   "metadata": {},
   "source": [
    "## 2.0 Test NLU APIs <a name=\"test\"></a>\n",
    "Run a quick check to make sure everything is working. We'll use a [basic web page](https://www.ibm.com) to see how Watson Natural Language Understanding can extract categories when given a URL. [This example](https://cloud.ibm.com/apidocs/natural-language-understanding?code=python#categories) comes from the Watson NLU documentation."
   ]
  },
  {
   "cell_type": "code",
   "execution_count": 17,
   "metadata": {},
   "outputs": [
    {
     "name": "stdout",
     "output_type": "stream",
     "text": [
      "{\n",
      "  \"usage\": {\n",
      "    \"text_units\": 1,\n",
      "    \"text_characters\": 1358,\n",
      "    \"features\": 1\n",
      "  },\n",
      "  \"retrieved_url\": \"https://www.ibm.com/us-en/?ar=1\",\n",
      "  \"language\": \"en\",\n",
      "  \"categories\": [\n",
      "    {\n",
      "      \"score\": 0.927228,\n",
      "      \"label\": \"/technology and computing/operating systems\"\n",
      "    },\n",
      "    {\n",
      "      \"score\": 0.907285,\n",
      "      \"label\": \"/business and industrial/business software\"\n",
      "    },\n",
      "    {\n",
      "      \"score\": 0.889748,\n",
      "      \"label\": \"/technology and computing/hardware/computer\"\n",
      "    }\n",
      "  ]\n",
      "}\n"
     ]
    }
   ],
   "source": [
    "authenticator = IAMAuthenticator(IAM_KEY)\n",
    "natural_language_understanding = NaturalLanguageUnderstandingV1(version='2020-08-01',authenticator=authenticator)\n",
    "\n",
    "natural_language_understanding.set_service_url(SERVICE_URL)\n",
    "\n",
    "response = natural_language_understanding.analyze(\n",
    "    url='www.ibm.com',\n",
    "    features=Features(categories=CategoriesOptions(limit=3))).get_result()\n",
    "\n",
    "print(json.dumps(response, indent=2))"
   ]
  },
  {
   "cell_type": "markdown",
   "metadata": {},
   "source": [
    "## 3.0 Import Data and Setup Pandas Dataframe<a name=\"pandas\"></a>"
   ]
  },
  {
   "cell_type": "code",
   "execution_count": 5,
   "metadata": {},
   "outputs": [
    {
     "data": {
      "text/html": [
       "<div>\n",
       "<style scoped>\n",
       "    .dataframe tbody tr th:only-of-type {\n",
       "        vertical-align: middle;\n",
       "    }\n",
       "\n",
       "    .dataframe tbody tr th {\n",
       "        vertical-align: top;\n",
       "    }\n",
       "\n",
       "    .dataframe thead th {\n",
       "        text-align: right;\n",
       "    }\n",
       "</style>\n",
       "<table border=\"1\" class=\"dataframe\">\n",
       "  <thead>\n",
       "    <tr style=\"text-align: right;\">\n",
       "      <th></th>\n",
       "      <th>subreddit</th>\n",
       "      <th>title</th>\n",
       "      <th>status_char_length</th>\n",
       "      <th>status_word_count</th>\n",
       "    </tr>\n",
       "  </thead>\n",
       "  <tbody>\n",
       "    <tr>\n",
       "      <th>0</th>\n",
       "      <td>ProCreate</td>\n",
       "      <td>Giving this a go!</td>\n",
       "      <td>17</td>\n",
       "      <td>4</td>\n",
       "    </tr>\n",
       "    <tr>\n",
       "      <th>1</th>\n",
       "      <td>ProCreate</td>\n",
       "      <td>Recently got an iPad and have never done digit...</td>\n",
       "      <td>109</td>\n",
       "      <td>21</td>\n",
       "    </tr>\n",
       "    <tr>\n",
       "      <th>2</th>\n",
       "      <td>ProCreate</td>\n",
       "      <td>Occasionally can't draw in specific spots?</td>\n",
       "      <td>42</td>\n",
       "      <td>6</td>\n",
       "    </tr>\n",
       "    <tr>\n",
       "      <th>3</th>\n",
       "      <td>ProCreate</td>\n",
       "      <td>Day 1 • 365 challenge</td>\n",
       "      <td>21</td>\n",
       "      <td>5</td>\n",
       "    </tr>\n",
       "    <tr>\n",
       "      <th>4</th>\n",
       "      <td>ProCreate</td>\n",
       "      <td>First finished painting in procreate! Trying f...</td>\n",
       "      <td>71</td>\n",
       "      <td>11</td>\n",
       "    </tr>\n",
       "  </tbody>\n",
       "</table>\n",
       "</div>"
      ],
      "text/plain": [
       "   subreddit                                              title  \\\n",
       "0  ProCreate                                  Giving this a go!   \n",
       "1  ProCreate  Recently got an iPad and have never done digit...   \n",
       "2  ProCreate         Occasionally can't draw in specific spots?   \n",
       "3  ProCreate                              Day 1 • 365 challenge   \n",
       "4  ProCreate  First finished painting in procreate! Trying f...   \n",
       "\n",
       "   status_char_length  status_word_count  \n",
       "0                  17                  4  \n",
       "1                 109                 21  \n",
       "2                  42                  6  \n",
       "3                  21                  5  \n",
       "4                  71                 11  "
      ]
     },
     "execution_count": 5,
     "metadata": {},
     "output_type": "execute_result"
    }
   ],
   "source": [
    "df = pd.read_csv('/Users/macbook/Google Drive/0. Ofilispeaks Business (Mac and Cloud)/9. Data Science/0. Python/General Assembly Training/Project 3/data/ibm_watson.csv')\n",
    "df.head(5)"
   ]
  },
  {
   "cell_type": "markdown",
   "metadata": {},
   "source": [
    "## 4.0 Clean and Prepare data for NLU scoring<a name=\"clean\"></a>"
   ]
  },
  {
   "cell_type": "markdown",
   "metadata": {},
   "source": [
    "Now, let's look for something that we can use with Watson NLU to derive an analysis of the sentiment of the customer feedback."
   ]
  },
  {
   "cell_type": "code",
   "execution_count": 20,
   "metadata": {},
   "outputs": [
    {
     "data": {
      "text/plain": [
       "AdobeIllustrator    3595\n",
       "ProCreate           3443\n",
       "Name: subreddit, dtype: int64"
      ]
     },
     "execution_count": 20,
     "metadata": {},
     "output_type": "execute_result"
    }
   ],
   "source": [
    "df[df['status_word_count'] > 5]['subreddit'].value_counts()"
   ]
  },
  {
   "cell_type": "code",
   "execution_count": 25,
   "metadata": {},
   "outputs": [],
   "source": [
    "df_five = df[df['status_word_count'] > 5]"
   ]
  },
  {
   "cell_type": "code",
   "execution_count": 26,
   "metadata": {},
   "outputs": [],
   "source": [
    "df_five.reset_index(inplace = True, drop = True)"
   ]
  },
  {
   "cell_type": "code",
   "execution_count": 27,
   "metadata": {},
   "outputs": [
    {
     "data": {
      "text/html": [
       "<div>\n",
       "<style scoped>\n",
       "    .dataframe tbody tr th:only-of-type {\n",
       "        vertical-align: middle;\n",
       "    }\n",
       "\n",
       "    .dataframe tbody tr th {\n",
       "        vertical-align: top;\n",
       "    }\n",
       "\n",
       "    .dataframe thead th {\n",
       "        text-align: right;\n",
       "    }\n",
       "</style>\n",
       "<table border=\"1\" class=\"dataframe\">\n",
       "  <thead>\n",
       "    <tr style=\"text-align: right;\">\n",
       "      <th></th>\n",
       "      <th>subreddit</th>\n",
       "      <th>title</th>\n",
       "      <th>status_char_length</th>\n",
       "      <th>status_word_count</th>\n",
       "    </tr>\n",
       "  </thead>\n",
       "  <tbody>\n",
       "    <tr>\n",
       "      <th>0</th>\n",
       "      <td>ProCreate</td>\n",
       "      <td>Recently got an iPad and have never done digit...</td>\n",
       "      <td>109</td>\n",
       "      <td>21</td>\n",
       "    </tr>\n",
       "    <tr>\n",
       "      <th>1</th>\n",
       "      <td>ProCreate</td>\n",
       "      <td>Occasionally can't draw in specific spots?</td>\n",
       "      <td>42</td>\n",
       "      <td>6</td>\n",
       "    </tr>\n",
       "    <tr>\n",
       "      <th>2</th>\n",
       "      <td>ProCreate</td>\n",
       "      <td>First finished painting in procreate! Trying f...</td>\n",
       "      <td>71</td>\n",
       "      <td>11</td>\n",
       "    </tr>\n",
       "    <tr>\n",
       "      <th>3</th>\n",
       "      <td>ProCreate</td>\n",
       "      <td>I just bought an ipad, and downloaded Procreat...</td>\n",
       "      <td>106</td>\n",
       "      <td>19</td>\n",
       "    </tr>\n",
       "    <tr>\n",
       "      <th>4</th>\n",
       "      <td>ProCreate</td>\n",
       "      <td>First piece with Procreate– constructive feedb...</td>\n",
       "      <td>58</td>\n",
       "      <td>7</td>\n",
       "    </tr>\n",
       "  </tbody>\n",
       "</table>\n",
       "</div>"
      ],
      "text/plain": [
       "   subreddit                                              title  \\\n",
       "0  ProCreate  Recently got an iPad and have never done digit...   \n",
       "1  ProCreate         Occasionally can't draw in specific spots?   \n",
       "2  ProCreate  First finished painting in procreate! Trying f...   \n",
       "3  ProCreate  I just bought an ipad, and downloaded Procreat...   \n",
       "4  ProCreate  First piece with Procreate– constructive feedb...   \n",
       "\n",
       "   status_char_length  status_word_count  \n",
       "0                 109                 21  \n",
       "1                  42                  6  \n",
       "2                  71                 11  \n",
       "3                 106                 19  \n",
       "4                  58                  7  "
      ]
     },
     "execution_count": 27,
     "metadata": {},
     "output_type": "execute_result"
    }
   ],
   "source": [
    "df_five.head(1357)"
   ]
  },
  {
   "cell_type": "code",
   "execution_count": 28,
   "metadata": {},
   "outputs": [
    {
     "name": "stdout",
     "output_type": "stream",
     "text": [
      "Recently got an iPad and have never done digital art before. Not perfect, but I think it’s ok for a beginner.\n"
     ]
    }
   ],
   "source": [
    "print (df_five['title'][0])"
   ]
  },
  {
   "cell_type": "markdown",
   "metadata": {},
   "source": [
    "That looks like what we want. Now, we'll create a list to hold the `responses`, call Watson NLU with the data and then populate the responses list. We'll do the same with a list called `normalize` that we can use along with [json_normalize()](https://pandas.pydata.org/pandas-docs/stable/reference/api/pandas.json_normalize.html)."
   ]
  },
  {
   "cell_type": "markdown",
   "metadata": {},
   "source": [
    "## 5.0 Get Sentiment by Row<a name=\"sentiment-row\"></a>\n",
    "Now, let's derive some sentiment and emotion information on a per-row basis, to provide more granualarity.\n",
    "The number of API calls that you can make to Watson NLU is [rate limited and dependent on your service plan](https://cloud.ibm.com/catalog/services/natural-language-understanding)."
   ]
  },
  {
   "cell_type": "code",
   "execution_count": 38,
   "metadata": {},
   "outputs": [],
   "source": [
    "responses = []\n",
    "normalize = []\n",
    "for index, row in df_five.iterrows():\n",
    "    \n",
    "    response = natural_language_understanding.analyze(\n",
    "    text = row['title'],\n",
    "        language = 'en',\n",
    "    features=Features(keywords=KeywordsOptions(sentiment=True,emotion=True,limit=1))).get_result()\n",
    "    normalize.append(pd.json_normalize(response['keywords']))\n",
    "    responses.append(response)"
   ]
  },
  {
   "cell_type": "markdown",
   "metadata": {},
   "source": [
    "Add the `responses` list and the `normalize` to the df_rows dataframe. We can continue to use these new data features, but more commonly we'll derive new dataframes for our experiments and change those new dataframes instead."
   ]
  },
  {
   "cell_type": "code",
   "execution_count": 95,
   "metadata": {},
   "outputs": [
    {
     "data": {
      "text/html": [
       "<div>\n",
       "<style scoped>\n",
       "    .dataframe tbody tr th:only-of-type {\n",
       "        vertical-align: middle;\n",
       "    }\n",
       "\n",
       "    .dataframe tbody tr th {\n",
       "        vertical-align: top;\n",
       "    }\n",
       "\n",
       "    .dataframe thead th {\n",
       "        text-align: right;\n",
       "    }\n",
       "</style>\n",
       "<table border=\"1\" class=\"dataframe\">\n",
       "  <thead>\n",
       "    <tr style=\"text-align: right;\">\n",
       "      <th></th>\n",
       "      <th>subreddit</th>\n",
       "      <th>title</th>\n",
       "      <th>status_char_length</th>\n",
       "      <th>status_word_count</th>\n",
       "      <th>response</th>\n",
       "      <th>normalized</th>\n",
       "      <th>anger</th>\n",
       "      <th>sentiment.score</th>\n",
       "      <th>sadness</th>\n",
       "      <th>joy</th>\n",
       "      <th>fear</th>\n",
       "      <th>disgust</th>\n",
       "      <th>keyword</th>\n",
       "      <th>relevance_score</th>\n",
       "      <th>sentiment_score</th>\n",
       "    </tr>\n",
       "  </thead>\n",
       "  <tbody>\n",
       "    <tr>\n",
       "      <th>0</th>\n",
       "      <td>ProCreate</td>\n",
       "      <td>Recently got an iPad and have never done digit...</td>\n",
       "      <td>109</td>\n",
       "      <td>21</td>\n",
       "      <td>{'usage': {'text_units': 1, 'text_characters':...</td>\n",
       "      <td>text  relevance  count  sentiment.sc...</td>\n",
       "      <td>0</td>\n",
       "      <td>-0.701735</td>\n",
       "      <td>0</td>\n",
       "      <td>0</td>\n",
       "      <td>0</td>\n",
       "      <td>0</td>\n",
       "      <td>0</td>\n",
       "      <td>0</td>\n",
       "      <td>0</td>\n",
       "    </tr>\n",
       "    <tr>\n",
       "      <th>1</th>\n",
       "      <td>ProCreate</td>\n",
       "      <td>Occasionally can't draw in specific spots?</td>\n",
       "      <td>42</td>\n",
       "      <td>6</td>\n",
       "      <td>{'usage': {'text_units': 1, 'text_characters':...</td>\n",
       "      <td>text  relevance  count  sentiment...</td>\n",
       "      <td>0</td>\n",
       "      <td>0.000000</td>\n",
       "      <td>0</td>\n",
       "      <td>0</td>\n",
       "      <td>0</td>\n",
       "      <td>0</td>\n",
       "      <td>0</td>\n",
       "      <td>0</td>\n",
       "      <td>0</td>\n",
       "    </tr>\n",
       "    <tr>\n",
       "      <th>2</th>\n",
       "      <td>ProCreate</td>\n",
       "      <td>First finished painting in procreate! Trying f...</td>\n",
       "      <td>71</td>\n",
       "      <td>11</td>\n",
       "      <td>{'usage': {'text_units': 1, 'text_characters':...</td>\n",
       "      <td>text  relevance  count  sentiment.score ...</td>\n",
       "      <td>0</td>\n",
       "      <td>0.000000</td>\n",
       "      <td>0</td>\n",
       "      <td>0</td>\n",
       "      <td>0</td>\n",
       "      <td>0</td>\n",
       "      <td>0</td>\n",
       "      <td>0</td>\n",
       "      <td>0</td>\n",
       "    </tr>\n",
       "    <tr>\n",
       "      <th>3</th>\n",
       "      <td>ProCreate</td>\n",
       "      <td>I just bought an ipad, and downloaded Procreat...</td>\n",
       "      <td>106</td>\n",
       "      <td>19</td>\n",
       "      <td>{'usage': {'text_units': 1, 'text_characters':...</td>\n",
       "      <td>text  relevance  count  sentiment.sco...</td>\n",
       "      <td>0</td>\n",
       "      <td>0.000000</td>\n",
       "      <td>0</td>\n",
       "      <td>0</td>\n",
       "      <td>0</td>\n",
       "      <td>0</td>\n",
       "      <td>0</td>\n",
       "      <td>0</td>\n",
       "      <td>0</td>\n",
       "    </tr>\n",
       "    <tr>\n",
       "      <th>4</th>\n",
       "      <td>ProCreate</td>\n",
       "      <td>First piece with Procreate– constructive feedb...</td>\n",
       "      <td>58</td>\n",
       "      <td>7</td>\n",
       "      <td>{'usage': {'text_units': 1, 'text_characters':...</td>\n",
       "      <td>text  relevance  count  sentiment.sc...</td>\n",
       "      <td>0</td>\n",
       "      <td>0.932697</td>\n",
       "      <td>0</td>\n",
       "      <td>0</td>\n",
       "      <td>0</td>\n",
       "      <td>0</td>\n",
       "      <td>0</td>\n",
       "      <td>0</td>\n",
       "      <td>0</td>\n",
       "    </tr>\n",
       "  </tbody>\n",
       "</table>\n",
       "</div>"
      ],
      "text/plain": [
       "   subreddit                                              title  \\\n",
       "0  ProCreate  Recently got an iPad and have never done digit...   \n",
       "1  ProCreate         Occasionally can't draw in specific spots?   \n",
       "2  ProCreate  First finished painting in procreate! Trying f...   \n",
       "3  ProCreate  I just bought an ipad, and downloaded Procreat...   \n",
       "4  ProCreate  First piece with Procreate– constructive feedb...   \n",
       "\n",
       "   status_char_length  status_word_count  \\\n",
       "0                 109                 21   \n",
       "1                  42                  6   \n",
       "2                  71                 11   \n",
       "3                 106                 19   \n",
       "4                  58                  7   \n",
       "\n",
       "                                            response  \\\n",
       "0  {'usage': {'text_units': 1, 'text_characters':...   \n",
       "1  {'usage': {'text_units': 1, 'text_characters':...   \n",
       "2  {'usage': {'text_units': 1, 'text_characters':...   \n",
       "3  {'usage': {'text_units': 1, 'text_characters':...   \n",
       "4  {'usage': {'text_units': 1, 'text_characters':...   \n",
       "\n",
       "                                          normalized  anger  sentiment.score  \\\n",
       "0            text  relevance  count  sentiment.sc...      0        -0.701735   \n",
       "1               text  relevance  count  sentiment...      0         0.000000   \n",
       "2        text  relevance  count  sentiment.score ...      0         0.000000   \n",
       "3           text  relevance  count  sentiment.sco...      0         0.000000   \n",
       "4            text  relevance  count  sentiment.sc...      0         0.932697   \n",
       "\n",
       "   sadness  joy  fear  disgust  keyword  relevance_score  sentiment_score  \n",
       "0        0    0     0        0        0                0                0  \n",
       "1        0    0     0        0        0                0                0  \n",
       "2        0    0     0        0        0                0                0  \n",
       "3        0    0     0        0        0                0                0  \n",
       "4        0    0     0        0        0                0                0  "
      ]
     },
     "execution_count": 95,
     "metadata": {},
     "output_type": "execute_result"
    }
   ],
   "source": [
    "warnings.filterwarnings('ignore')\n",
    "df_five['response'] = responses\n",
    "df_five.head()"
   ]
  },
  {
   "cell_type": "code",
   "execution_count": 96,
   "metadata": {},
   "outputs": [
    {
     "data": {
      "text/html": [
       "<div>\n",
       "<style scoped>\n",
       "    .dataframe tbody tr th:only-of-type {\n",
       "        vertical-align: middle;\n",
       "    }\n",
       "\n",
       "    .dataframe tbody tr th {\n",
       "        vertical-align: top;\n",
       "    }\n",
       "\n",
       "    .dataframe thead th {\n",
       "        text-align: right;\n",
       "    }\n",
       "</style>\n",
       "<table border=\"1\" class=\"dataframe\">\n",
       "  <thead>\n",
       "    <tr style=\"text-align: right;\">\n",
       "      <th></th>\n",
       "      <th>subreddit</th>\n",
       "      <th>title</th>\n",
       "      <th>status_char_length</th>\n",
       "      <th>status_word_count</th>\n",
       "      <th>response</th>\n",
       "      <th>normalized</th>\n",
       "      <th>anger</th>\n",
       "      <th>sentiment.score</th>\n",
       "      <th>sadness</th>\n",
       "      <th>joy</th>\n",
       "      <th>fear</th>\n",
       "      <th>disgust</th>\n",
       "      <th>keyword</th>\n",
       "      <th>relevance_score</th>\n",
       "      <th>sentiment_score</th>\n",
       "    </tr>\n",
       "  </thead>\n",
       "  <tbody>\n",
       "    <tr>\n",
       "      <th>0</th>\n",
       "      <td>ProCreate</td>\n",
       "      <td>Recently got an iPad and have never done digit...</td>\n",
       "      <td>109</td>\n",
       "      <td>21</td>\n",
       "      <td>{'usage': {'text_units': 1, 'text_characters':...</td>\n",
       "      <td>text  relevance  count  sentiment.sc...</td>\n",
       "      <td>0</td>\n",
       "      <td>-0.701735</td>\n",
       "      <td>0</td>\n",
       "      <td>0</td>\n",
       "      <td>0</td>\n",
       "      <td>0</td>\n",
       "      <td>0</td>\n",
       "      <td>0</td>\n",
       "      <td>0</td>\n",
       "    </tr>\n",
       "    <tr>\n",
       "      <th>1</th>\n",
       "      <td>ProCreate</td>\n",
       "      <td>Occasionally can't draw in specific spots?</td>\n",
       "      <td>42</td>\n",
       "      <td>6</td>\n",
       "      <td>{'usage': {'text_units': 1, 'text_characters':...</td>\n",
       "      <td>text  relevance  count  sentiment...</td>\n",
       "      <td>0</td>\n",
       "      <td>0.000000</td>\n",
       "      <td>0</td>\n",
       "      <td>0</td>\n",
       "      <td>0</td>\n",
       "      <td>0</td>\n",
       "      <td>0</td>\n",
       "      <td>0</td>\n",
       "      <td>0</td>\n",
       "    </tr>\n",
       "    <tr>\n",
       "      <th>2</th>\n",
       "      <td>ProCreate</td>\n",
       "      <td>First finished painting in procreate! Trying f...</td>\n",
       "      <td>71</td>\n",
       "      <td>11</td>\n",
       "      <td>{'usage': {'text_units': 1, 'text_characters':...</td>\n",
       "      <td>text  relevance  count  sentiment.score ...</td>\n",
       "      <td>0</td>\n",
       "      <td>0.000000</td>\n",
       "      <td>0</td>\n",
       "      <td>0</td>\n",
       "      <td>0</td>\n",
       "      <td>0</td>\n",
       "      <td>0</td>\n",
       "      <td>0</td>\n",
       "      <td>0</td>\n",
       "    </tr>\n",
       "    <tr>\n",
       "      <th>3</th>\n",
       "      <td>ProCreate</td>\n",
       "      <td>I just bought an ipad, and downloaded Procreat...</td>\n",
       "      <td>106</td>\n",
       "      <td>19</td>\n",
       "      <td>{'usage': {'text_units': 1, 'text_characters':...</td>\n",
       "      <td>text  relevance  count  sentiment.sco...</td>\n",
       "      <td>0</td>\n",
       "      <td>0.000000</td>\n",
       "      <td>0</td>\n",
       "      <td>0</td>\n",
       "      <td>0</td>\n",
       "      <td>0</td>\n",
       "      <td>0</td>\n",
       "      <td>0</td>\n",
       "      <td>0</td>\n",
       "    </tr>\n",
       "    <tr>\n",
       "      <th>4</th>\n",
       "      <td>ProCreate</td>\n",
       "      <td>First piece with Procreate– constructive feedb...</td>\n",
       "      <td>58</td>\n",
       "      <td>7</td>\n",
       "      <td>{'usage': {'text_units': 1, 'text_characters':...</td>\n",
       "      <td>text  relevance  count  sentiment.sc...</td>\n",
       "      <td>0</td>\n",
       "      <td>0.932697</td>\n",
       "      <td>0</td>\n",
       "      <td>0</td>\n",
       "      <td>0</td>\n",
       "      <td>0</td>\n",
       "      <td>0</td>\n",
       "      <td>0</td>\n",
       "      <td>0</td>\n",
       "    </tr>\n",
       "  </tbody>\n",
       "</table>\n",
       "</div>"
      ],
      "text/plain": [
       "   subreddit                                              title  \\\n",
       "0  ProCreate  Recently got an iPad and have never done digit...   \n",
       "1  ProCreate         Occasionally can't draw in specific spots?   \n",
       "2  ProCreate  First finished painting in procreate! Trying f...   \n",
       "3  ProCreate  I just bought an ipad, and downloaded Procreat...   \n",
       "4  ProCreate  First piece with Procreate– constructive feedb...   \n",
       "\n",
       "   status_char_length  status_word_count  \\\n",
       "0                 109                 21   \n",
       "1                  42                  6   \n",
       "2                  71                 11   \n",
       "3                 106                 19   \n",
       "4                  58                  7   \n",
       "\n",
       "                                            response  \\\n",
       "0  {'usage': {'text_units': 1, 'text_characters':...   \n",
       "1  {'usage': {'text_units': 1, 'text_characters':...   \n",
       "2  {'usage': {'text_units': 1, 'text_characters':...   \n",
       "3  {'usage': {'text_units': 1, 'text_characters':...   \n",
       "4  {'usage': {'text_units': 1, 'text_characters':...   \n",
       "\n",
       "                                          normalized  anger  sentiment.score  \\\n",
       "0            text  relevance  count  sentiment.sc...      0        -0.701735   \n",
       "1               text  relevance  count  sentiment...      0         0.000000   \n",
       "2        text  relevance  count  sentiment.score ...      0         0.000000   \n",
       "3           text  relevance  count  sentiment.sco...      0         0.000000   \n",
       "4            text  relevance  count  sentiment.sc...      0         0.932697   \n",
       "\n",
       "   sadness  joy  fear  disgust  keyword  relevance_score  sentiment_score  \n",
       "0        0    0     0        0        0                0                0  \n",
       "1        0    0     0        0        0                0                0  \n",
       "2        0    0     0        0        0                0                0  \n",
       "3        0    0     0        0        0                0                0  \n",
       "4        0    0     0        0        0                0                0  "
      ]
     },
     "execution_count": 96,
     "metadata": {},
     "output_type": "execute_result"
    }
   ],
   "source": [
    "warnings.filterwarnings('ignore')\n",
    "df_five['normalized'] = normalize\n",
    "df_five.head()"
   ]
  },
  {
   "cell_type": "code",
   "execution_count": 44,
   "metadata": {},
   "outputs": [
    {
     "name": "stdout",
     "output_type": "stream",
     "text": [
      "Submission CSV is ready!\n"
     ]
    }
   ],
   "source": [
    "# Write the DataFrame you created to a csv called 'predictions.csv'\n",
    "df_five.to_csv('/data/2_Cleaned_IBM_Data/cleaned_ibm.csv', index=False)\n",
    "print('Submission CSV is ready!')"
   ]
  },
  {
   "cell_type": "markdown",
   "metadata": {},
   "source": [
    "“I am feeling 😕   today\""
   ]
  }
 ],
 "metadata": {
  "kernelspec": {
   "display_name": "Python 3",
   "language": "python",
   "name": "python3"
  },
  "language_info": {
   "codemirror_mode": {
    "name": "ipython",
    "version": 3
   },
   "file_extension": ".py",
   "mimetype": "text/x-python",
   "name": "python",
   "nbconvert_exporter": "python",
   "pygments_lexer": "ipython3",
   "version": "3.8.3"
  }
 },
 "nbformat": 4,
 "nbformat_minor": 1
}
