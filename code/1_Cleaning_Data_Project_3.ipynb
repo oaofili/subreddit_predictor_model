{
 "cells": [
  {
   "cell_type": "markdown",
   "metadata": {},
   "source": [
    "# Project 3 - Concating SubREDDITS and doing Preliminary Cleaning\n",
    "\n",
    "In this portion of the Project, we'll concat both subreddits scraped data and trim it down to focus on the more active subreddit posts, which are the ones with a good amount of comments. We will also create 2 new columns for further analysis down the line."
   ]
  },
  {
   "cell_type": "code",
   "execution_count": 1,
   "metadata": {},
   "outputs": [],
   "source": [
    "# Data Manipulation\n",
    "import numpy as np\n",
    "import pandas as pd"
   ]
  },
  {
   "cell_type": "code",
   "execution_count": 2,
   "metadata": {},
   "outputs": [],
   "source": [
    "# this setting widens how many characters pandas will display in a column:\n",
    "pd.options.display.max_colwidth = 350"
   ]
  },
  {
   "cell_type": "code",
   "execution_count": 3,
   "metadata": {},
   "outputs": [],
   "source": [
    "pr_df =  pd.read_csv('data/0_Scraped_Data/procreate_final.csv')"
   ]
  },
  {
   "cell_type": "code",
   "execution_count": 4,
   "metadata": {},
   "outputs": [],
   "source": [
    "ai_df = pd.read_csv('data/0_Scraped_Data/adobeillustrator.csv')"
   ]
  },
  {
   "cell_type": "code",
   "execution_count": 5,
   "metadata": {},
   "outputs": [
    {
     "data": {
      "text/html": [
       "<div>\n",
       "<style scoped>\n",
       "    .dataframe tbody tr th:only-of-type {\n",
       "        vertical-align: middle;\n",
       "    }\n",
       "\n",
       "    .dataframe tbody tr th {\n",
       "        vertical-align: top;\n",
       "    }\n",
       "\n",
       "    .dataframe thead th {\n",
       "        text-align: right;\n",
       "    }\n",
       "</style>\n",
       "<table border=\"1\" class=\"dataframe\">\n",
       "  <thead>\n",
       "    <tr style=\"text-align: right;\">\n",
       "      <th></th>\n",
       "      <th>created_utc</th>\n",
       "      <th>full_link</th>\n",
       "      <th>num_comments</th>\n",
       "      <th>score</th>\n",
       "      <th>selftext</th>\n",
       "      <th>subreddit</th>\n",
       "      <th>subreddit_subscribers</th>\n",
       "      <th>title</th>\n",
       "    </tr>\n",
       "  </thead>\n",
       "  <tbody>\n",
       "    <tr>\n",
       "      <th>0</th>\n",
       "      <td>1546306570</td>\n",
       "      <td>https://www.reddit.com/r/ProCreate/comments/abdonl/which_ipad_pro_should_i_get_to_use_procreate/</td>\n",
       "      <td>2</td>\n",
       "      <td>1</td>\n",
       "      <td>Hi!\\nAre there very noticeable differences between the new ipad pro and the new apple pencil and the previous version of both? Other than the awkward charging of the pencil, I guess i can live with that to save some money. \\n\\nI will mostly use it for illustrating for fun on procreate. \\n\\nThanks!</td>\n",
       "      <td>ProCreate</td>\n",
       "      <td>4223</td>\n",
       "      <td>Which ipad pro should i get to use procreate?</td>\n",
       "    </tr>\n",
       "  </tbody>\n",
       "</table>\n",
       "</div>"
      ],
      "text/plain": [
       "   created_utc  \\\n",
       "0   1546306570   \n",
       "\n",
       "                                                                                          full_link  \\\n",
       "0  https://www.reddit.com/r/ProCreate/comments/abdonl/which_ipad_pro_should_i_get_to_use_procreate/   \n",
       "\n",
       "   num_comments  score  \\\n",
       "0             2      1   \n",
       "\n",
       "                                                                                                                                                                                                                                                                                                      selftext  \\\n",
       "0  Hi!\\nAre there very noticeable differences between the new ipad pro and the new apple pencil and the previous version of both? Other than the awkward charging of the pencil, I guess i can live with that to save some money. \\n\\nI will mostly use it for illustrating for fun on procreate. \\n\\nThanks!    \n",
       "\n",
       "   subreddit  subreddit_subscribers  \\\n",
       "0  ProCreate                   4223   \n",
       "\n",
       "                                           title  \n",
       "0  Which ipad pro should i get to use procreate?  "
      ]
     },
     "execution_count": 5,
     "metadata": {},
     "output_type": "execute_result"
    }
   ],
   "source": [
    "pr_df.head(1)"
   ]
  },
  {
   "cell_type": "code",
   "execution_count": 6,
   "metadata": {},
   "outputs": [
    {
     "data": {
      "text/html": [
       "<div>\n",
       "<style scoped>\n",
       "    .dataframe tbody tr th:only-of-type {\n",
       "        vertical-align: middle;\n",
       "    }\n",
       "\n",
       "    .dataframe tbody tr th {\n",
       "        vertical-align: top;\n",
       "    }\n",
       "\n",
       "    .dataframe thead th {\n",
       "        text-align: right;\n",
       "    }\n",
       "</style>\n",
       "<table border=\"1\" class=\"dataframe\">\n",
       "  <thead>\n",
       "    <tr style=\"text-align: right;\">\n",
       "      <th></th>\n",
       "      <th>created_utc</th>\n",
       "      <th>full_link</th>\n",
       "      <th>num_comments</th>\n",
       "      <th>score</th>\n",
       "      <th>selftext</th>\n",
       "      <th>subreddit</th>\n",
       "      <th>subreddit_subscribers</th>\n",
       "      <th>title</th>\n",
       "    </tr>\n",
       "  </thead>\n",
       "  <tbody>\n",
       "    <tr>\n",
       "      <th>0</th>\n",
       "      <td>1546306849</td>\n",
       "      <td>https://www.reddit.com/r/AdobeIllustrator/comments/abdpyu/how_to_when_using_the_blend_tool_i_try_to_blend/</td>\n",
       "      <td>0</td>\n",
       "      <td>1</td>\n",
       "      <td>Extra info: the specified strokes in the middle aren't following the style of the main strokes.</td>\n",
       "      <td>AdobeIllustrator</td>\n",
       "      <td>25285</td>\n",
       "      <td>HOW TO: When using the blend tool, I try to blend two strokes with a style applied to both ( like the different width profiles ) and the blended strokes aren't affected. How do I fix this?</td>\n",
       "    </tr>\n",
       "  </tbody>\n",
       "</table>\n",
       "</div>"
      ],
      "text/plain": [
       "   created_utc  \\\n",
       "0   1546306849   \n",
       "\n",
       "                                                                                                    full_link  \\\n",
       "0  https://www.reddit.com/r/AdobeIllustrator/comments/abdpyu/how_to_when_using_the_blend_tool_i_try_to_blend/   \n",
       "\n",
       "   num_comments  score  \\\n",
       "0             0      1   \n",
       "\n",
       "                                                                                          selftext  \\\n",
       "0  Extra info: the specified strokes in the middle aren't following the style of the main strokes.   \n",
       "\n",
       "          subreddit  subreddit_subscribers  \\\n",
       "0  AdobeIllustrator                  25285   \n",
       "\n",
       "                                                                                                                                                                                          title  \n",
       "0  HOW TO: When using the blend tool, I try to blend two strokes with a style applied to both ( like the different width profiles ) and the blended strokes aren't affected. How do I fix this?  "
      ]
     },
     "execution_count": 6,
     "metadata": {},
     "output_type": "execute_result"
    }
   ],
   "source": [
    "ai_df.head(1)"
   ]
  },
  {
   "cell_type": "code",
   "execution_count": 7,
   "metadata": {},
   "outputs": [],
   "source": [
    "# Trim rows down"
   ]
  },
  {
   "cell_type": "code",
   "execution_count": 8,
   "metadata": {},
   "outputs": [],
   "source": [
    "pr_df = pr_df[(pr_df['num_comments'] > 4) & (pr_df['selftext'] != '[deleted]')]"
   ]
  },
  {
   "cell_type": "code",
   "execution_count": 9,
   "metadata": {},
   "outputs": [],
   "source": [
    "ai_df = ai_df[(ai_df['num_comments'] > 4) & (ai_df['selftext'] != '[deleted]')]"
   ]
  },
  {
   "cell_type": "code",
   "execution_count": 10,
   "metadata": {},
   "outputs": [],
   "source": [
    "project_ai_df = pd.DataFrame(data=ai_df, columns = ['subreddit','title'])"
   ]
  },
  {
   "cell_type": "code",
   "execution_count": 11,
   "metadata": {},
   "outputs": [],
   "source": [
    "project_pr_df = pd.DataFrame(data=pr_df, columns = ['subreddit','title'])"
   ]
  },
  {
   "cell_type": "code",
   "execution_count": 12,
   "metadata": {},
   "outputs": [
    {
     "data": {
      "text/html": [
       "<div>\n",
       "<style scoped>\n",
       "    .dataframe tbody tr th:only-of-type {\n",
       "        vertical-align: middle;\n",
       "    }\n",
       "\n",
       "    .dataframe tbody tr th {\n",
       "        vertical-align: top;\n",
       "    }\n",
       "\n",
       "    .dataframe thead th {\n",
       "        text-align: right;\n",
       "    }\n",
       "</style>\n",
       "<table border=\"1\" class=\"dataframe\">\n",
       "  <thead>\n",
       "    <tr style=\"text-align: right;\">\n",
       "      <th></th>\n",
       "      <th>subreddit</th>\n",
       "      <th>title</th>\n",
       "    </tr>\n",
       "  </thead>\n",
       "  <tbody>\n",
       "    <tr>\n",
       "      <th>1</th>\n",
       "      <td>AdobeIllustrator</td>\n",
       "      <td>Wanna start using illustrator to draw, mouse vs drawing tablet?</td>\n",
       "    </tr>\n",
       "  </tbody>\n",
       "</table>\n",
       "</div>"
      ],
      "text/plain": [
       "          subreddit  \\\n",
       "1  AdobeIllustrator   \n",
       "\n",
       "                                                             title  \n",
       "1  Wanna start using illustrator to draw, mouse vs drawing tablet?  "
      ]
     },
     "execution_count": 12,
     "metadata": {},
     "output_type": "execute_result"
    }
   ],
   "source": [
    "project_ai_df.head(1)"
   ]
  },
  {
   "cell_type": "code",
   "execution_count": 13,
   "metadata": {},
   "outputs": [
    {
     "data": {
      "text/html": [
       "<div>\n",
       "<style scoped>\n",
       "    .dataframe tbody tr th:only-of-type {\n",
       "        vertical-align: middle;\n",
       "    }\n",
       "\n",
       "    .dataframe tbody tr th {\n",
       "        vertical-align: top;\n",
       "    }\n",
       "\n",
       "    .dataframe thead th {\n",
       "        text-align: right;\n",
       "    }\n",
       "</style>\n",
       "<table border=\"1\" class=\"dataframe\">\n",
       "  <thead>\n",
       "    <tr style=\"text-align: right;\">\n",
       "      <th></th>\n",
       "      <th>subreddit</th>\n",
       "      <th>title</th>\n",
       "    </tr>\n",
       "  </thead>\n",
       "  <tbody>\n",
       "    <tr>\n",
       "      <th>1</th>\n",
       "      <td>ProCreate</td>\n",
       "      <td>Giving this a go!</td>\n",
       "    </tr>\n",
       "  </tbody>\n",
       "</table>\n",
       "</div>"
      ],
      "text/plain": [
       "   subreddit              title\n",
       "1  ProCreate  Giving this a go!"
      ]
     },
     "execution_count": 13,
     "metadata": {},
     "output_type": "execute_result"
    }
   ],
   "source": [
    "project_pr_df.head(1)"
   ]
  },
  {
   "cell_type": "code",
   "execution_count": 14,
   "metadata": {},
   "outputs": [],
   "source": [
    "frames = [project_pr_df, project_ai_df]\n",
    "ai_pr_df = pd.concat(frames, axis = 0) # Concatenate the dataframes row to row"
   ]
  },
  {
   "cell_type": "code",
   "execution_count": 15,
   "metadata": {},
   "outputs": [
    {
     "data": {
      "text/html": [
       "<div>\n",
       "<style scoped>\n",
       "    .dataframe tbody tr th:only-of-type {\n",
       "        vertical-align: middle;\n",
       "    }\n",
       "\n",
       "    .dataframe tbody tr th {\n",
       "        vertical-align: top;\n",
       "    }\n",
       "\n",
       "    .dataframe thead th {\n",
       "        text-align: right;\n",
       "    }\n",
       "</style>\n",
       "<table border=\"1\" class=\"dataframe\">\n",
       "  <thead>\n",
       "    <tr style=\"text-align: right;\">\n",
       "      <th></th>\n",
       "      <th>subreddit</th>\n",
       "      <th>title</th>\n",
       "    </tr>\n",
       "  </thead>\n",
       "  <tbody>\n",
       "    <tr>\n",
       "      <th>1</th>\n",
       "      <td>ProCreate</td>\n",
       "      <td>Giving this a go!</td>\n",
       "    </tr>\n",
       "  </tbody>\n",
       "</table>\n",
       "</div>"
      ],
      "text/plain": [
       "   subreddit              title\n",
       "1  ProCreate  Giving this a go!"
      ]
     },
     "execution_count": 15,
     "metadata": {},
     "output_type": "execute_result"
    }
   ],
   "source": [
    "ai_pr_df.head(1)"
   ]
  },
  {
   "cell_type": "code",
   "execution_count": 16,
   "metadata": {},
   "outputs": [
    {
     "data": {
      "text/html": [
       "<div>\n",
       "<style scoped>\n",
       "    .dataframe tbody tr th:only-of-type {\n",
       "        vertical-align: middle;\n",
       "    }\n",
       "\n",
       "    .dataframe tbody tr th {\n",
       "        vertical-align: top;\n",
       "    }\n",
       "\n",
       "    .dataframe thead th {\n",
       "        text-align: right;\n",
       "    }\n",
       "</style>\n",
       "<table border=\"1\" class=\"dataframe\">\n",
       "  <thead>\n",
       "    <tr style=\"text-align: right;\">\n",
       "      <th></th>\n",
       "      <th>subreddit</th>\n",
       "      <th>title</th>\n",
       "    </tr>\n",
       "  </thead>\n",
       "  <tbody>\n",
       "    <tr>\n",
       "      <th>20595</th>\n",
       "      <td>AdobeIllustrator</td>\n",
       "      <td>Jaguar XKSS poster design:)</td>\n",
       "    </tr>\n",
       "  </tbody>\n",
       "</table>\n",
       "</div>"
      ],
      "text/plain": [
       "              subreddit                        title\n",
       "20595  AdobeIllustrator  Jaguar XKSS poster design:)"
      ]
     },
     "execution_count": 16,
     "metadata": {},
     "output_type": "execute_result"
    }
   ],
   "source": [
    "ai_pr_df.tail(1)"
   ]
  },
  {
   "cell_type": "code",
   "execution_count": 17,
   "metadata": {},
   "outputs": [],
   "source": [
    "ai_pr_df.reset_index(drop=True, inplace = True)"
   ]
  },
  {
   "cell_type": "markdown",
   "metadata": {},
   "source": [
    "### Create DataFrame Column With Our Time"
   ]
  },
  {
   "cell_type": "code",
   "execution_count": 18,
   "metadata": {},
   "outputs": [],
   "source": [
    "frames = [pr_df, ai_df]\n",
    "ai_pr_time = pd.concat(frames, axis = 0) # Concatenate the dataframes row to row"
   ]
  },
  {
   "cell_type": "code",
   "execution_count": 19,
   "metadata": {},
   "outputs": [
    {
     "data": {
      "text/html": [
       "<div>\n",
       "<style scoped>\n",
       "    .dataframe tbody tr th:only-of-type {\n",
       "        vertical-align: middle;\n",
       "    }\n",
       "\n",
       "    .dataframe tbody tr th {\n",
       "        vertical-align: top;\n",
       "    }\n",
       "\n",
       "    .dataframe thead th {\n",
       "        text-align: right;\n",
       "    }\n",
       "</style>\n",
       "<table border=\"1\" class=\"dataframe\">\n",
       "  <thead>\n",
       "    <tr style=\"text-align: right;\">\n",
       "      <th></th>\n",
       "      <th>created_utc</th>\n",
       "      <th>full_link</th>\n",
       "      <th>num_comments</th>\n",
       "      <th>score</th>\n",
       "      <th>selftext</th>\n",
       "      <th>subreddit</th>\n",
       "      <th>subreddit_subscribers</th>\n",
       "      <th>title</th>\n",
       "    </tr>\n",
       "  </thead>\n",
       "  <tbody>\n",
       "    <tr>\n",
       "      <th>1</th>\n",
       "      <td>1546313619</td>\n",
       "      <td>https://www.reddit.com/r/ProCreate/comments/abejip/giving_this_a_go/</td>\n",
       "      <td>7</td>\n",
       "      <td>1</td>\n",
       "      <td>NaN</td>\n",
       "      <td>ProCreate</td>\n",
       "      <td>4227</td>\n",
       "      <td>Giving this a go!</td>\n",
       "    </tr>\n",
       "  </tbody>\n",
       "</table>\n",
       "</div>"
      ],
      "text/plain": [
       "   created_utc  \\\n",
       "1   1546313619   \n",
       "\n",
       "                                                              full_link  \\\n",
       "1  https://www.reddit.com/r/ProCreate/comments/abejip/giving_this_a_go/   \n",
       "\n",
       "   num_comments  score selftext  subreddit  subreddit_subscribers  \\\n",
       "1             7      1      NaN  ProCreate                   4227   \n",
       "\n",
       "               title  \n",
       "1  Giving this a go!  "
      ]
     },
     "execution_count": 19,
     "metadata": {},
     "output_type": "execute_result"
    }
   ],
   "source": [
    "ai_pr_time.head(1)"
   ]
  },
  {
   "cell_type": "code",
   "execution_count": 20,
   "metadata": {},
   "outputs": [],
   "source": [
    "ai_pr_time.drop(['full_link','num_comments','score','selftext','subreddit'], axis=1, inplace=True)"
   ]
  },
  {
   "cell_type": "code",
   "execution_count": 21,
   "metadata": {},
   "outputs": [
    {
     "data": {
      "text/html": [
       "<div>\n",
       "<style scoped>\n",
       "    .dataframe tbody tr th:only-of-type {\n",
       "        vertical-align: middle;\n",
       "    }\n",
       "\n",
       "    .dataframe tbody tr th {\n",
       "        vertical-align: top;\n",
       "    }\n",
       "\n",
       "    .dataframe thead th {\n",
       "        text-align: right;\n",
       "    }\n",
       "</style>\n",
       "<table border=\"1\" class=\"dataframe\">\n",
       "  <thead>\n",
       "    <tr style=\"text-align: right;\">\n",
       "      <th></th>\n",
       "      <th>created_utc</th>\n",
       "      <th>subreddit_subscribers</th>\n",
       "      <th>title</th>\n",
       "    </tr>\n",
       "  </thead>\n",
       "  <tbody>\n",
       "    <tr>\n",
       "      <th>1</th>\n",
       "      <td>1546313619</td>\n",
       "      <td>4227</td>\n",
       "      <td>Giving this a go!</td>\n",
       "    </tr>\n",
       "  </tbody>\n",
       "</table>\n",
       "</div>"
      ],
      "text/plain": [
       "   created_utc  subreddit_subscribers              title\n",
       "1   1546313619                   4227  Giving this a go!"
      ]
     },
     "execution_count": 21,
     "metadata": {},
     "output_type": "execute_result"
    }
   ],
   "source": [
    "ai_pr_time.head(1)"
   ]
  },
  {
   "cell_type": "code",
   "execution_count": 22,
   "metadata": {},
   "outputs": [
    {
     "name": "stdout",
     "output_type": "stream",
     "text": [
      "Submission CSV is ready!\n"
     ]
    }
   ],
   "source": [
    "# Write the DataFrame you created to a csv called 'predictions.csv'\n",
    "ai_pr_time.to_csv('data/1_Scraped_Data_IBM/ibm_watson_time.csv', index=False)\n",
    "print('Submission CSV is ready!')"
   ]
  },
  {
   "cell_type": "markdown",
   "metadata": {},
   "source": [
    "### Create a new column called `status_char_length` that contains the character length of each status\n",
    "\n",
    "> Note: You can do this in one line with `map`."
   ]
  },
  {
   "cell_type": "code",
   "execution_count": 23,
   "metadata": {},
   "outputs": [],
   "source": [
    "## Title lenghts\n",
    "ai_pr_df['status_char_length'] = [len(ai_pr_df['title'][i]) for i in range(0,ai_pr_df['title'].shape[0])]"
   ]
  },
  {
   "cell_type": "markdown",
   "metadata": {},
   "source": [
    "### Create a new column called `status_word_count` that contains the number of words in each status\n",
    "\n",
    "> Note: You can evaluate this based off of how many strings are separated by whitespaces; you're not required to check that each set of characters set apart by whitespaces is a word in the dictionary."
   ]
  },
  {
   "cell_type": "code",
   "execution_count": 24,
   "metadata": {},
   "outputs": [],
   "source": [
    "ai_pr_df['status_word_count'] = [len(ai_pr_df['title'][i].split()) for i in range(0,ai_pr_df['title'].shape[0])] # Split on the spaces and then count the number of words with Lenght in-built function"
   ]
  },
  {
   "cell_type": "code",
   "execution_count": 25,
   "metadata": {},
   "outputs": [
    {
     "data": {
      "text/html": [
       "<div>\n",
       "<style scoped>\n",
       "    .dataframe tbody tr th:only-of-type {\n",
       "        vertical-align: middle;\n",
       "    }\n",
       "\n",
       "    .dataframe tbody tr th {\n",
       "        vertical-align: top;\n",
       "    }\n",
       "\n",
       "    .dataframe thead th {\n",
       "        text-align: right;\n",
       "    }\n",
       "</style>\n",
       "<table border=\"1\" class=\"dataframe\">\n",
       "  <thead>\n",
       "    <tr style=\"text-align: right;\">\n",
       "      <th></th>\n",
       "      <th>subreddit</th>\n",
       "      <th>title</th>\n",
       "      <th>status_char_length</th>\n",
       "      <th>status_word_count</th>\n",
       "    </tr>\n",
       "  </thead>\n",
       "  <tbody>\n",
       "    <tr>\n",
       "      <th>0</th>\n",
       "      <td>ProCreate</td>\n",
       "      <td>Giving this a go!</td>\n",
       "      <td>17</td>\n",
       "      <td>4</td>\n",
       "    </tr>\n",
       "    <tr>\n",
       "      <th>1</th>\n",
       "      <td>ProCreate</td>\n",
       "      <td>Recently got an iPad and have never done digital art before. Not perfect, but I think it’s ok for a beginner.</td>\n",
       "      <td>109</td>\n",
       "      <td>21</td>\n",
       "    </tr>\n",
       "    <tr>\n",
       "      <th>2</th>\n",
       "      <td>ProCreate</td>\n",
       "      <td>Occasionally can't draw in specific spots?</td>\n",
       "      <td>42</td>\n",
       "      <td>6</td>\n",
       "    </tr>\n",
       "    <tr>\n",
       "      <th>3</th>\n",
       "      <td>ProCreate</td>\n",
       "      <td>Day 1 • 365 challenge</td>\n",
       "      <td>21</td>\n",
       "      <td>5</td>\n",
       "    </tr>\n",
       "    <tr>\n",
       "      <th>4</th>\n",
       "      <td>ProCreate</td>\n",
       "      <td>First finished painting in procreate! Trying for 31 flowers in January.</td>\n",
       "      <td>71</td>\n",
       "      <td>11</td>\n",
       "    </tr>\n",
       "  </tbody>\n",
       "</table>\n",
       "</div>"
      ],
      "text/plain": [
       "   subreddit  \\\n",
       "0  ProCreate   \n",
       "1  ProCreate   \n",
       "2  ProCreate   \n",
       "3  ProCreate   \n",
       "4  ProCreate   \n",
       "\n",
       "                                                                                                           title  \\\n",
       "0                                                                                              Giving this a go!   \n",
       "1  Recently got an iPad and have never done digital art before. Not perfect, but I think it’s ok for a beginner.   \n",
       "2                                                                     Occasionally can't draw in specific spots?   \n",
       "3                                                                                          Day 1 • 365 challenge   \n",
       "4                                        First finished painting in procreate! Trying for 31 flowers in January.   \n",
       "\n",
       "   status_char_length  status_word_count  \n",
       "0                  17                  4  \n",
       "1                 109                 21  \n",
       "2                  42                  6  \n",
       "3                  21                  5  \n",
       "4                  71                 11  "
      ]
     },
     "execution_count": 25,
     "metadata": {},
     "output_type": "execute_result"
    }
   ],
   "source": [
    "ai_pr_df.head()"
   ]
  },
  {
   "cell_type": "code",
   "execution_count": 26,
   "metadata": {},
   "outputs": [
    {
     "name": "stdout",
     "output_type": "stream",
     "text": [
      "Submission CSV is ready!\n"
     ]
    }
   ],
   "source": [
    "# Write the DataFrame you created to a csv called 'predictions.csv'\n",
    "ai_pr_df.to_csv('data/1_Scraped_Data_IBM/ibm_watson.csv', index=False)\n",
    "print('Submission CSV is ready!')"
   ]
  },
  {
   "cell_type": "markdown",
   "metadata": {},
   "source": [
    "“I am feeling 🤔 today\""
   ]
  }
 ],
 "metadata": {
  "kernelspec": {
   "display_name": "Python 3",
   "language": "python",
   "name": "python3"
  },
  "language_info": {
   "codemirror_mode": {
    "name": "ipython",
    "version": 3
   },
   "file_extension": ".py",
   "mimetype": "text/x-python",
   "name": "python",
   "nbconvert_exporter": "python",
   "pygments_lexer": "ipython3",
   "version": "3.8.3"
  }
 },
 "nbformat": 4,
 "nbformat_minor": 4
}
